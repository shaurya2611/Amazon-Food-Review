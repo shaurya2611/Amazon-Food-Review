{
 "cells": [
  {
   "cell_type": "markdown",
   "metadata": {},
   "source": [
    "## Obejctive"
   ]
  },
  {
   "cell_type": "markdown",
   "metadata": {},
   "source": [
    "* Given a review, determine whether the review is positive (rating of 4 or 5) or negative (rating of 1 or 2).\n",
    "* A rating of 4 or 5 can be cosnidered as a positive review. A rating of 1 or 2 can be considered as negative one. A review of rating 3 is considered nuetral and such reviews are ignored from our analysis."
   ]
  },
  {
   "cell_type": "code",
   "execution_count": 1,
   "metadata": {},
   "outputs": [],
   "source": [
    "import sqlite3\n",
    "import time\n",
    "import warnings\n",
    "warnings.filterwarnings(\"ignore\")\n",
    "\n",
    "import pandas as pd\n",
    "import numpy as np\n",
    "import matplotlib.pyplot as plt\n",
    "import seaborn as sns"
   ]
  },
  {
   "cell_type": "markdown",
   "metadata": {},
   "source": [
    "### Reading data from database"
   ]
  },
  {
   "cell_type": "code",
   "execution_count": 2,
   "metadata": {},
   "outputs": [
    {
     "name": "stdout",
     "output_type": "stream",
     "text": [
      "(568454, 10)\n"
     ]
    },
    {
     "data": {
      "text/html": [
       "<div>\n",
       "<style scoped>\n",
       "    .dataframe tbody tr th:only-of-type {\n",
       "        vertical-align: middle;\n",
       "    }\n",
       "\n",
       "    .dataframe tbody tr th {\n",
       "        vertical-align: top;\n",
       "    }\n",
       "\n",
       "    .dataframe thead th {\n",
       "        text-align: right;\n",
       "    }\n",
       "</style>\n",
       "<table border=\"1\" class=\"dataframe\">\n",
       "  <thead>\n",
       "    <tr style=\"text-align: right;\">\n",
       "      <th></th>\n",
       "      <th>Id</th>\n",
       "      <th>ProductId</th>\n",
       "      <th>UserId</th>\n",
       "      <th>ProfileName</th>\n",
       "      <th>HelpfulnessNumerator</th>\n",
       "      <th>HelpfulnessDenominator</th>\n",
       "      <th>Score</th>\n",
       "      <th>Time</th>\n",
       "      <th>Summary</th>\n",
       "      <th>Text</th>\n",
       "    </tr>\n",
       "  </thead>\n",
       "  <tbody>\n",
       "    <tr>\n",
       "      <th>0</th>\n",
       "      <td>1</td>\n",
       "      <td>B001E4KFG0</td>\n",
       "      <td>A3SGXH7AUHU8GW</td>\n",
       "      <td>delmartian</td>\n",
       "      <td>1</td>\n",
       "      <td>1</td>\n",
       "      <td>5</td>\n",
       "      <td>1303862400</td>\n",
       "      <td>Good Quality Dog Food</td>\n",
       "      <td>I have bought several of the Vitality canned d...</td>\n",
       "    </tr>\n",
       "    <tr>\n",
       "      <th>1</th>\n",
       "      <td>2</td>\n",
       "      <td>B00813GRG4</td>\n",
       "      <td>A1D87F6ZCVE5NK</td>\n",
       "      <td>dll pa</td>\n",
       "      <td>0</td>\n",
       "      <td>0</td>\n",
       "      <td>1</td>\n",
       "      <td>1346976000</td>\n",
       "      <td>Not as Advertised</td>\n",
       "      <td>Product arrived labeled as Jumbo Salted Peanut...</td>\n",
       "    </tr>\n",
       "    <tr>\n",
       "      <th>2</th>\n",
       "      <td>3</td>\n",
       "      <td>B000LQOCH0</td>\n",
       "      <td>ABXLMWJIXXAIN</td>\n",
       "      <td>Natalia Corres \"Natalia Corres\"</td>\n",
       "      <td>1</td>\n",
       "      <td>1</td>\n",
       "      <td>4</td>\n",
       "      <td>1219017600</td>\n",
       "      <td>\"Delight\" says it all</td>\n",
       "      <td>This is a confection that has been around a fe...</td>\n",
       "    </tr>\n",
       "    <tr>\n",
       "      <th>3</th>\n",
       "      <td>4</td>\n",
       "      <td>B000UA0QIQ</td>\n",
       "      <td>A395BORC6FGVXV</td>\n",
       "      <td>Karl</td>\n",
       "      <td>3</td>\n",
       "      <td>3</td>\n",
       "      <td>2</td>\n",
       "      <td>1307923200</td>\n",
       "      <td>Cough Medicine</td>\n",
       "      <td>If you are looking for the secret ingredient i...</td>\n",
       "    </tr>\n",
       "    <tr>\n",
       "      <th>4</th>\n",
       "      <td>5</td>\n",
       "      <td>B006K2ZZ7K</td>\n",
       "      <td>A1UQRSCLF8GW1T</td>\n",
       "      <td>Michael D. Bigham \"M. Wassir\"</td>\n",
       "      <td>0</td>\n",
       "      <td>0</td>\n",
       "      <td>5</td>\n",
       "      <td>1350777600</td>\n",
       "      <td>Great taffy</td>\n",
       "      <td>Great taffy at a great price.  There was a wid...</td>\n",
       "    </tr>\n",
       "  </tbody>\n",
       "</table>\n",
       "</div>"
      ],
      "text/plain": [
       "   Id   ProductId          UserId                      ProfileName  \\\n",
       "0   1  B001E4KFG0  A3SGXH7AUHU8GW                       delmartian   \n",
       "1   2  B00813GRG4  A1D87F6ZCVE5NK                           dll pa   \n",
       "2   3  B000LQOCH0   ABXLMWJIXXAIN  Natalia Corres \"Natalia Corres\"   \n",
       "3   4  B000UA0QIQ  A395BORC6FGVXV                             Karl   \n",
       "4   5  B006K2ZZ7K  A1UQRSCLF8GW1T    Michael D. Bigham \"M. Wassir\"   \n",
       "\n",
       "   HelpfulnessNumerator  HelpfulnessDenominator  Score        Time  \\\n",
       "0                     1                       1      5  1303862400   \n",
       "1                     0                       0      1  1346976000   \n",
       "2                     1                       1      4  1219017600   \n",
       "3                     3                       3      2  1307923200   \n",
       "4                     0                       0      5  1350777600   \n",
       "\n",
       "                 Summary                                               Text  \n",
       "0  Good Quality Dog Food  I have bought several of the Vitality canned d...  \n",
       "1      Not as Advertised  Product arrived labeled as Jumbo Salted Peanut...  \n",
       "2  \"Delight\" says it all  This is a confection that has been around a fe...  \n",
       "3         Cough Medicine  If you are looking for the secret ingredient i...  \n",
       "4            Great taffy  Great taffy at a great price.  There was a wid...  "
      ]
     },
     "execution_count": 2,
     "metadata": {},
     "output_type": "execute_result"
    }
   ],
   "source": [
    "connection = sqlite3.connect(\"D:\\\\Data Science\\\\Projects\\\\Amazon food review\\\\database.sqlite\")\n",
    "df = pd.read_sql_query(\"Select * from  Reviews\", connection)\n",
    "print(df.shape)\n",
    "df.head()"
   ]
  },
  {
   "cell_type": "code",
   "execution_count": 3,
   "metadata": {},
   "outputs": [
    {
     "data": {
      "text/plain": [
       "(525814, 10)"
      ]
     },
     "execution_count": 3,
     "metadata": {},
     "output_type": "execute_result"
    }
   ],
   "source": [
    "# Since score of 3 is considered neutral hence removing it from the database table--\n",
    "\n",
    "df = pd.read_sql_query(\"Select * From Reviews where Score!=3\",connection)\n",
    "df.shape"
   ]
  },
  {
   "cell_type": "code",
   "execution_count": 4,
   "metadata": {},
   "outputs": [],
   "source": [
    "# Score (4,5) are considered + ive (1)\n",
    "# Score (1,2) are considered - ive (0)\n",
    "\n",
    "def score_manage(x):\n",
    "    if x in [4,5]:\n",
    "        return 1\n",
    "    else:\n",
    "        return 0"
   ]
  },
  {
   "cell_type": "code",
   "execution_count": 5,
   "metadata": {},
   "outputs": [
    {
     "data": {
      "text/html": [
       "<div>\n",
       "<style scoped>\n",
       "    .dataframe tbody tr th:only-of-type {\n",
       "        vertical-align: middle;\n",
       "    }\n",
       "\n",
       "    .dataframe tbody tr th {\n",
       "        vertical-align: top;\n",
       "    }\n",
       "\n",
       "    .dataframe thead th {\n",
       "        text-align: right;\n",
       "    }\n",
       "</style>\n",
       "<table border=\"1\" class=\"dataframe\">\n",
       "  <thead>\n",
       "    <tr style=\"text-align: right;\">\n",
       "      <th></th>\n",
       "      <th>Id</th>\n",
       "      <th>ProductId</th>\n",
       "      <th>UserId</th>\n",
       "      <th>ProfileName</th>\n",
       "      <th>HelpfulnessNumerator</th>\n",
       "      <th>HelpfulnessDenominator</th>\n",
       "      <th>Score</th>\n",
       "      <th>Time</th>\n",
       "      <th>Summary</th>\n",
       "      <th>Text</th>\n",
       "    </tr>\n",
       "  </thead>\n",
       "  <tbody>\n",
       "    <tr>\n",
       "      <th>0</th>\n",
       "      <td>1</td>\n",
       "      <td>B001E4KFG0</td>\n",
       "      <td>A3SGXH7AUHU8GW</td>\n",
       "      <td>delmartian</td>\n",
       "      <td>1</td>\n",
       "      <td>1</td>\n",
       "      <td>1</td>\n",
       "      <td>1303862400</td>\n",
       "      <td>Good Quality Dog Food</td>\n",
       "      <td>I have bought several of the Vitality canned d...</td>\n",
       "    </tr>\n",
       "    <tr>\n",
       "      <th>1</th>\n",
       "      <td>2</td>\n",
       "      <td>B00813GRG4</td>\n",
       "      <td>A1D87F6ZCVE5NK</td>\n",
       "      <td>dll pa</td>\n",
       "      <td>0</td>\n",
       "      <td>0</td>\n",
       "      <td>0</td>\n",
       "      <td>1346976000</td>\n",
       "      <td>Not as Advertised</td>\n",
       "      <td>Product arrived labeled as Jumbo Salted Peanut...</td>\n",
       "    </tr>\n",
       "    <tr>\n",
       "      <th>2</th>\n",
       "      <td>3</td>\n",
       "      <td>B000LQOCH0</td>\n",
       "      <td>ABXLMWJIXXAIN</td>\n",
       "      <td>Natalia Corres \"Natalia Corres\"</td>\n",
       "      <td>1</td>\n",
       "      <td>1</td>\n",
       "      <td>1</td>\n",
       "      <td>1219017600</td>\n",
       "      <td>\"Delight\" says it all</td>\n",
       "      <td>This is a confection that has been around a fe...</td>\n",
       "    </tr>\n",
       "    <tr>\n",
       "      <th>3</th>\n",
       "      <td>4</td>\n",
       "      <td>B000UA0QIQ</td>\n",
       "      <td>A395BORC6FGVXV</td>\n",
       "      <td>Karl</td>\n",
       "      <td>3</td>\n",
       "      <td>3</td>\n",
       "      <td>0</td>\n",
       "      <td>1307923200</td>\n",
       "      <td>Cough Medicine</td>\n",
       "      <td>If you are looking for the secret ingredient i...</td>\n",
       "    </tr>\n",
       "    <tr>\n",
       "      <th>4</th>\n",
       "      <td>5</td>\n",
       "      <td>B006K2ZZ7K</td>\n",
       "      <td>A1UQRSCLF8GW1T</td>\n",
       "      <td>Michael D. Bigham \"M. Wassir\"</td>\n",
       "      <td>0</td>\n",
       "      <td>0</td>\n",
       "      <td>1</td>\n",
       "      <td>1350777600</td>\n",
       "      <td>Great taffy</td>\n",
       "      <td>Great taffy at a great price.  There was a wid...</td>\n",
       "    </tr>\n",
       "  </tbody>\n",
       "</table>\n",
       "</div>"
      ],
      "text/plain": [
       "   Id   ProductId          UserId                      ProfileName  \\\n",
       "0   1  B001E4KFG0  A3SGXH7AUHU8GW                       delmartian   \n",
       "1   2  B00813GRG4  A1D87F6ZCVE5NK                           dll pa   \n",
       "2   3  B000LQOCH0   ABXLMWJIXXAIN  Natalia Corres \"Natalia Corres\"   \n",
       "3   4  B000UA0QIQ  A395BORC6FGVXV                             Karl   \n",
       "4   5  B006K2ZZ7K  A1UQRSCLF8GW1T    Michael D. Bigham \"M. Wassir\"   \n",
       "\n",
       "   HelpfulnessNumerator  HelpfulnessDenominator  Score        Time  \\\n",
       "0                     1                       1      1  1303862400   \n",
       "1                     0                       0      0  1346976000   \n",
       "2                     1                       1      1  1219017600   \n",
       "3                     3                       3      0  1307923200   \n",
       "4                     0                       0      1  1350777600   \n",
       "\n",
       "                 Summary                                               Text  \n",
       "0  Good Quality Dog Food  I have bought several of the Vitality canned d...  \n",
       "1      Not as Advertised  Product arrived labeled as Jumbo Salted Peanut...  \n",
       "2  \"Delight\" says it all  This is a confection that has been around a fe...  \n",
       "3         Cough Medicine  If you are looking for the secret ingredient i...  \n",
       "4            Great taffy  Great taffy at a great price.  There was a wid...  "
      ]
     },
     "execution_count": 5,
     "metadata": {},
     "output_type": "execute_result"
    }
   ],
   "source": [
    "df.Score = df.Score.map(score_manage)\n",
    "df.head()"
   ]
  },
  {
   "cell_type": "markdown",
   "metadata": {},
   "source": [
    "### Data Cleaning"
   ]
  },
  {
   "cell_type": "code",
   "execution_count": 6,
   "metadata": {},
   "outputs": [
    {
     "data": {
      "text/html": [
       "<div>\n",
       "<style scoped>\n",
       "    .dataframe tbody tr th:only-of-type {\n",
       "        vertical-align: middle;\n",
       "    }\n",
       "\n",
       "    .dataframe tbody tr th {\n",
       "        vertical-align: top;\n",
       "    }\n",
       "\n",
       "    .dataframe thead th {\n",
       "        text-align: right;\n",
       "    }\n",
       "</style>\n",
       "<table border=\"1\" class=\"dataframe\">\n",
       "  <thead>\n",
       "    <tr style=\"text-align: right;\">\n",
       "      <th></th>\n",
       "      <th>Id</th>\n",
       "      <th>ProductId</th>\n",
       "      <th>UserId</th>\n",
       "      <th>ProfileName</th>\n",
       "      <th>HelpfulnessNumerator</th>\n",
       "      <th>HelpfulnessDenominator</th>\n",
       "      <th>Score</th>\n",
       "      <th>Time</th>\n",
       "      <th>Summary</th>\n",
       "      <th>Text</th>\n",
       "    </tr>\n",
       "  </thead>\n",
       "  <tbody>\n",
       "    <tr>\n",
       "      <th>138706</th>\n",
       "      <td>150524</td>\n",
       "      <td>0006641040</td>\n",
       "      <td>ACITT7DI6IDDL</td>\n",
       "      <td>shari zychinski</td>\n",
       "      <td>0</td>\n",
       "      <td>0</td>\n",
       "      <td>1</td>\n",
       "      <td>939340800</td>\n",
       "      <td>EVERY book is educational</td>\n",
       "      <td>this witty little book makes my son laugh at l...</td>\n",
       "    </tr>\n",
       "    <tr>\n",
       "      <th>138688</th>\n",
       "      <td>150506</td>\n",
       "      <td>0006641040</td>\n",
       "      <td>A2IW4PEEKO2R0U</td>\n",
       "      <td>Tracy</td>\n",
       "      <td>1</td>\n",
       "      <td>1</td>\n",
       "      <td>1</td>\n",
       "      <td>1194739200</td>\n",
       "      <td>Love the book, miss the hard cover version</td>\n",
       "      <td>I grew up reading these Sendak books, and watc...</td>\n",
       "    </tr>\n",
       "    <tr>\n",
       "      <th>138689</th>\n",
       "      <td>150507</td>\n",
       "      <td>0006641040</td>\n",
       "      <td>A1S4A3IQ2MU7V4</td>\n",
       "      <td>sally sue \"sally sue\"</td>\n",
       "      <td>1</td>\n",
       "      <td>1</td>\n",
       "      <td>1</td>\n",
       "      <td>1191456000</td>\n",
       "      <td>chicken soup with rice months</td>\n",
       "      <td>This is a fun way for children to learn their ...</td>\n",
       "    </tr>\n",
       "    <tr>\n",
       "      <th>138690</th>\n",
       "      <td>150508</td>\n",
       "      <td>0006641040</td>\n",
       "      <td>AZGXZ2UUK6X</td>\n",
       "      <td>Catherine Hallberg \"(Kate)\"</td>\n",
       "      <td>1</td>\n",
       "      <td>1</td>\n",
       "      <td>1</td>\n",
       "      <td>1076025600</td>\n",
       "      <td>a good swingy rhythm for reading aloud</td>\n",
       "      <td>This is a great little book to read aloud- it ...</td>\n",
       "    </tr>\n",
       "    <tr>\n",
       "      <th>138691</th>\n",
       "      <td>150509</td>\n",
       "      <td>0006641040</td>\n",
       "      <td>A3CMRKGE0P909G</td>\n",
       "      <td>Teresa</td>\n",
       "      <td>3</td>\n",
       "      <td>4</td>\n",
       "      <td>1</td>\n",
       "      <td>1018396800</td>\n",
       "      <td>A great way to learn the months</td>\n",
       "      <td>This is a book of poetry about the months of t...</td>\n",
       "    </tr>\n",
       "  </tbody>\n",
       "</table>\n",
       "</div>"
      ],
      "text/plain": [
       "            Id   ProductId          UserId                  ProfileName  \\\n",
       "138706  150524  0006641040   ACITT7DI6IDDL              shari zychinski   \n",
       "138688  150506  0006641040  A2IW4PEEKO2R0U                        Tracy   \n",
       "138689  150507  0006641040  A1S4A3IQ2MU7V4        sally sue \"sally sue\"   \n",
       "138690  150508  0006641040     AZGXZ2UUK6X  Catherine Hallberg \"(Kate)\"   \n",
       "138691  150509  0006641040  A3CMRKGE0P909G                       Teresa   \n",
       "\n",
       "        HelpfulnessNumerator  HelpfulnessDenominator  Score        Time  \\\n",
       "138706                     0                       0      1   939340800   \n",
       "138688                     1                       1      1  1194739200   \n",
       "138689                     1                       1      1  1191456000   \n",
       "138690                     1                       1      1  1076025600   \n",
       "138691                     3                       4      1  1018396800   \n",
       "\n",
       "                                           Summary  \\\n",
       "138706                   EVERY book is educational   \n",
       "138688  Love the book, miss the hard cover version   \n",
       "138689               chicken soup with rice months   \n",
       "138690      a good swingy rhythm for reading aloud   \n",
       "138691             A great way to learn the months   \n",
       "\n",
       "                                                     Text  \n",
       "138706  this witty little book makes my son laugh at l...  \n",
       "138688  I grew up reading these Sendak books, and watc...  \n",
       "138689  This is a fun way for children to learn their ...  \n",
       "138690  This is a great little book to read aloud- it ...  \n",
       "138691  This is a book of poetry about the months of t...  "
      ]
     },
     "execution_count": 6,
     "metadata": {},
     "output_type": "execute_result"
    }
   ],
   "source": [
    "# for more visualtization sorting data according to the ProductID\n",
    "\n",
    "sorted_df = df.sort_values(axis=0,by=['ProductId'] , na_position='last', kind='quicksort' )\n",
    "sorted_df.head(5)"
   ]
  },
  {
   "cell_type": "code",
   "execution_count": 7,
   "metadata": {},
   "outputs": [
    {
     "data": {
      "text/html": [
       "<div>\n",
       "<style scoped>\n",
       "    .dataframe tbody tr th:only-of-type {\n",
       "        vertical-align: middle;\n",
       "    }\n",
       "\n",
       "    .dataframe tbody tr th {\n",
       "        vertical-align: top;\n",
       "    }\n",
       "\n",
       "    .dataframe thead th {\n",
       "        text-align: right;\n",
       "    }\n",
       "</style>\n",
       "<table border=\"1\" class=\"dataframe\">\n",
       "  <thead>\n",
       "    <tr style=\"text-align: right;\">\n",
       "      <th></th>\n",
       "      <th>Id</th>\n",
       "      <th>ProductId</th>\n",
       "      <th>UserId</th>\n",
       "      <th>ProfileName</th>\n",
       "      <th>HelpfulnessNumerator</th>\n",
       "      <th>HelpfulnessDenominator</th>\n",
       "      <th>Score</th>\n",
       "      <th>Time</th>\n",
       "      <th>Summary</th>\n",
       "      <th>Text</th>\n",
       "    </tr>\n",
       "  </thead>\n",
       "  <tbody>\n",
       "    <tr>\n",
       "      <th>157843</th>\n",
       "      <td>171154</td>\n",
       "      <td>7310172001</td>\n",
       "      <td>AJD41FBJD9010</td>\n",
       "      <td>N. Ferguson \"Two, Daisy, Hannah, and Kitten\"</td>\n",
       "      <td>0</td>\n",
       "      <td>0</td>\n",
       "      <td>1</td>\n",
       "      <td>1233360000</td>\n",
       "      <td>best dog treat-- great for training---  all do...</td>\n",
       "      <td>Freeze dried liver has a hypnotic effect on do...</td>\n",
       "    </tr>\n",
       "    <tr>\n",
       "      <th>157908</th>\n",
       "      <td>171223</td>\n",
       "      <td>7310172001</td>\n",
       "      <td>AJD41FBJD9010</td>\n",
       "      <td>N. Ferguson \"Two, Daisy, Hannah, and Kitten\"</td>\n",
       "      <td>1</td>\n",
       "      <td>1</td>\n",
       "      <td>1</td>\n",
       "      <td>1233360000</td>\n",
       "      <td>best dog treat-- great for training---  all do...</td>\n",
       "      <td>Freeze dried liver has a hypnotic effect on do...</td>\n",
       "    </tr>\n",
       "    <tr>\n",
       "      <th>157876</th>\n",
       "      <td>171189</td>\n",
       "      <td>7310172001</td>\n",
       "      <td>AJD41FBJD9010</td>\n",
       "      <td>N. Ferguson \"Two, Daisy, Hannah, and Kitten\"</td>\n",
       "      <td>39</td>\n",
       "      <td>51</td>\n",
       "      <td>1</td>\n",
       "      <td>1233360000</td>\n",
       "      <td>NO waste at all ----  great for training  ----...</td>\n",
       "      <td>Freeze dried liver has a hypnotic effect on do...</td>\n",
       "    </tr>\n",
       "    <tr>\n",
       "      <th>200631</th>\n",
       "      <td>217420</td>\n",
       "      <td>7310172101</td>\n",
       "      <td>AJD41FBJD9010</td>\n",
       "      <td>N. Ferguson \"Two, Daisy, Hannah, and Kitten\"</td>\n",
       "      <td>39</td>\n",
       "      <td>51</td>\n",
       "      <td>1</td>\n",
       "      <td>1233360000</td>\n",
       "      <td>NO waste at all ----  great for training  ----...</td>\n",
       "      <td>Freeze dried liver has a hypnotic effect on do...</td>\n",
       "    </tr>\n",
       "    <tr>\n",
       "      <th>200596</th>\n",
       "      <td>217383</td>\n",
       "      <td>7310172101</td>\n",
       "      <td>AJD41FBJD9010</td>\n",
       "      <td>N. Ferguson \"Two, Daisy, Hannah, and Kitten\"</td>\n",
       "      <td>0</td>\n",
       "      <td>0</td>\n",
       "      <td>1</td>\n",
       "      <td>1233360000</td>\n",
       "      <td>dogs LOVE it--  best treat for rewards and tra...</td>\n",
       "      <td>Freeze dried liver has a hypnotic effect on do...</td>\n",
       "    </tr>\n",
       "    <tr>\n",
       "      <th>200597</th>\n",
       "      <td>217384</td>\n",
       "      <td>7310172101</td>\n",
       "      <td>AJD41FBJD9010</td>\n",
       "      <td>N. Ferguson \"Two, Daisy, Hannah, and Kitten\"</td>\n",
       "      <td>0</td>\n",
       "      <td>0</td>\n",
       "      <td>1</td>\n",
       "      <td>1233360000</td>\n",
       "      <td>best dog treat-- great for training---  all do...</td>\n",
       "      <td>Freeze dried liver has a hypnotic effect on do...</td>\n",
       "    </tr>\n",
       "    <tr>\n",
       "      <th>341818</th>\n",
       "      <td>369802</td>\n",
       "      <td>B000084DWM</td>\n",
       "      <td>A36JDIN9RAAIEC</td>\n",
       "      <td>Jon</td>\n",
       "      <td>2</td>\n",
       "      <td>2</td>\n",
       "      <td>1</td>\n",
       "      <td>1292976000</td>\n",
       "      <td>Don't fall prey to fads and anecdotal reviews</td>\n",
       "      <td>I have two cats, one 6 and one 2 years old. Bo...</td>\n",
       "    </tr>\n",
       "    <tr>\n",
       "      <th>341820</th>\n",
       "      <td>369804</td>\n",
       "      <td>B000084DWM</td>\n",
       "      <td>A3TVZM3ZIXG8YW</td>\n",
       "      <td>christopher hayes</td>\n",
       "      <td>33</td>\n",
       "      <td>48</td>\n",
       "      <td>0</td>\n",
       "      <td>1291420800</td>\n",
       "      <td>Filler food is empty, leaves your cat always n...</td>\n",
       "      <td>This review will make me sound really stupid, ...</td>\n",
       "    </tr>\n",
       "    <tr>\n",
       "      <th>341815</th>\n",
       "      <td>369799</td>\n",
       "      <td>B000084DWM</td>\n",
       "      <td>A25C5MVVCIYT5D</td>\n",
       "      <td>Natalie Dawn</td>\n",
       "      <td>2</td>\n",
       "      <td>2</td>\n",
       "      <td>1</td>\n",
       "      <td>1304726400</td>\n",
       "      <td>Nothing else works</td>\n",
       "      <td>I understand all the complaints about Science ...</td>\n",
       "    </tr>\n",
       "    <tr>\n",
       "      <th>341798</th>\n",
       "      <td>369781</td>\n",
       "      <td>B000084DWM</td>\n",
       "      <td>A3TVZM3ZIXG8YW</td>\n",
       "      <td>christopher hayes</td>\n",
       "      <td>19</td>\n",
       "      <td>21</td>\n",
       "      <td>0</td>\n",
       "      <td>1291420800</td>\n",
       "      <td>Filler food is empty, leaves your cat always n...</td>\n",
       "      <td>This review will make me sound really stupid, ...</td>\n",
       "    </tr>\n",
       "    <tr>\n",
       "      <th>341802</th>\n",
       "      <td>369786</td>\n",
       "      <td>B000084DWM</td>\n",
       "      <td>A3TVZM3ZIXG8YW</td>\n",
       "      <td>christopher hayes</td>\n",
       "      <td>18</td>\n",
       "      <td>24</td>\n",
       "      <td>0</td>\n",
       "      <td>1291420800</td>\n",
       "      <td>Filler food is empty, leaves your cat always n...</td>\n",
       "      <td>This review will make me sound really stupid, ...</td>\n",
       "    </tr>\n",
       "    <tr>\n",
       "      <th>341806</th>\n",
       "      <td>369790</td>\n",
       "      <td>B000084DWM</td>\n",
       "      <td>A36JDIN9RAAIEC</td>\n",
       "      <td>Jon</td>\n",
       "      <td>3</td>\n",
       "      <td>3</td>\n",
       "      <td>1</td>\n",
       "      <td>1292976000</td>\n",
       "      <td>Great product, but trust your vet not the hype</td>\n",
       "      <td>I have two cats, one 6 and one 2 years old. Bo...</td>\n",
       "    </tr>\n",
       "    <tr>\n",
       "      <th>341807</th>\n",
       "      <td>369791</td>\n",
       "      <td>B000084DWM</td>\n",
       "      <td>A3TVZM3ZIXG8YW</td>\n",
       "      <td>christopher hayes</td>\n",
       "      <td>3</td>\n",
       "      <td>3</td>\n",
       "      <td>0</td>\n",
       "      <td>1291420800</td>\n",
       "      <td>Filler food is empty, leaves your cat always n...</td>\n",
       "      <td>This review will make me sound really stupid, ...</td>\n",
       "    </tr>\n",
       "    <tr>\n",
       "      <th>341810</th>\n",
       "      <td>369794</td>\n",
       "      <td>B000084DWM</td>\n",
       "      <td>A3TVZM3ZIXG8YW</td>\n",
       "      <td>christopher hayes</td>\n",
       "      <td>7</td>\n",
       "      <td>9</td>\n",
       "      <td>0</td>\n",
       "      <td>1291420800</td>\n",
       "      <td>Filler food is empty, leaves your cat always n...</td>\n",
       "      <td>This review will make me sound really stupid, ...</td>\n",
       "    </tr>\n",
       "    <tr>\n",
       "      <th>341811</th>\n",
       "      <td>369795</td>\n",
       "      <td>B000084DWM</td>\n",
       "      <td>A3TVZM3ZIXG8YW</td>\n",
       "      <td>christopher hayes</td>\n",
       "      <td>11</td>\n",
       "      <td>15</td>\n",
       "      <td>0</td>\n",
       "      <td>1291420800</td>\n",
       "      <td>Filler food is empty, leaves your cat always n...</td>\n",
       "      <td>This review will make me sound really stupid, ...</td>\n",
       "    </tr>\n",
       "    <tr>\n",
       "      <th>341812</th>\n",
       "      <td>369796</td>\n",
       "      <td>B000084DWM</td>\n",
       "      <td>A3TVZM3ZIXG8YW</td>\n",
       "      <td>christopher hayes</td>\n",
       "      <td>11</td>\n",
       "      <td>15</td>\n",
       "      <td>0</td>\n",
       "      <td>1291420800</td>\n",
       "      <td>Filler food is empty, leaves your cat always n...</td>\n",
       "      <td>This review will make me sound really stupid, ...</td>\n",
       "    </tr>\n",
       "    <tr>\n",
       "      <th>341858</th>\n",
       "      <td>369845</td>\n",
       "      <td>B000084DWM</td>\n",
       "      <td>A3TVZM3ZIXG8YW</td>\n",
       "      <td>christopher hayes</td>\n",
       "      <td>2</td>\n",
       "      <td>4</td>\n",
       "      <td>0</td>\n",
       "      <td>1291420800</td>\n",
       "      <td>Filler food is empty, leaves your cat always n...</td>\n",
       "      <td>This review will make me sound really stupid, ...</td>\n",
       "    </tr>\n",
       "    <tr>\n",
       "      <th>341870</th>\n",
       "      <td>369857</td>\n",
       "      <td>B000084DWM</td>\n",
       "      <td>A3TVZM3ZIXG8YW</td>\n",
       "      <td>christopher hayes</td>\n",
       "      <td>6</td>\n",
       "      <td>15</td>\n",
       "      <td>0</td>\n",
       "      <td>1291420800</td>\n",
       "      <td>Filler food is empty, leaves your cat always n...</td>\n",
       "      <td>This review will make me sound really stupid, ...</td>\n",
       "    </tr>\n",
       "    <tr>\n",
       "      <th>379416</th>\n",
       "      <td>410243</td>\n",
       "      <td>B000084EZ4</td>\n",
       "      <td>A29JUMRL1US6YP</td>\n",
       "      <td>HTBK</td>\n",
       "      <td>12</td>\n",
       "      <td>14</td>\n",
       "      <td>1</td>\n",
       "      <td>1278201600</td>\n",
       "      <td>Fantastic Food for Good Cat Health</td>\n",
       "      <td>The pet food industry can be one of the most i...</td>\n",
       "    </tr>\n",
       "    <tr>\n",
       "      <th>379440</th>\n",
       "      <td>410268</td>\n",
       "      <td>B000084EZ4</td>\n",
       "      <td>A29JUMRL1US6YP</td>\n",
       "      <td>HTBK</td>\n",
       "      <td>3</td>\n",
       "      <td>3</td>\n",
       "      <td>1</td>\n",
       "      <td>1278201600</td>\n",
       "      <td>Fantastic Food for Good Cat Health</td>\n",
       "      <td>The pet food industry can be one of the most i...</td>\n",
       "    </tr>\n",
       "    <tr>\n",
       "      <th>379439</th>\n",
       "      <td>410267</td>\n",
       "      <td>B000084EZ4</td>\n",
       "      <td>A29JUMRL1US6YP</td>\n",
       "      <td>HTBK</td>\n",
       "      <td>3</td>\n",
       "      <td>3</td>\n",
       "      <td>1</td>\n",
       "      <td>1278201600</td>\n",
       "      <td>Fantastic Food for Good Cat Health</td>\n",
       "      <td>The pet food industry can be one of the most i...</td>\n",
       "    </tr>\n",
       "    <tr>\n",
       "      <th>379466</th>\n",
       "      <td>410296</td>\n",
       "      <td>B000084EZ4</td>\n",
       "      <td>A34UV2FFXJPS3T</td>\n",
       "      <td>Susan Ackoff</td>\n",
       "      <td>2</td>\n",
       "      <td>2</td>\n",
       "      <td>1</td>\n",
       "      <td>1294185600</td>\n",
       "      <td>Great Cat Food</td>\n",
       "      <td>Wellness wet cat food is terrific.&lt;br /&gt;My thr...</td>\n",
       "    </tr>\n",
       "    <tr>\n",
       "      <th>379437</th>\n",
       "      <td>410265</td>\n",
       "      <td>B000084EZ4</td>\n",
       "      <td>A2FGXWWR8ZU59C</td>\n",
       "      <td>Thomas Lawrence</td>\n",
       "      <td>3</td>\n",
       "      <td>3</td>\n",
       "      <td>1</td>\n",
       "      <td>1292198400</td>\n",
       "      <td>Cats love the food, but no pull-tab top, and d...</td>\n",
       "      <td>I appreciate being able to buy this larger, mo...</td>\n",
       "    </tr>\n",
       "    <tr>\n",
       "      <th>379427</th>\n",
       "      <td>410254</td>\n",
       "      <td>B000084EZ4</td>\n",
       "      <td>A29JUMRL1US6YP</td>\n",
       "      <td>HTBK</td>\n",
       "      <td>4</td>\n",
       "      <td>4</td>\n",
       "      <td>1</td>\n",
       "      <td>1278201600</td>\n",
       "      <td>Fantastic Food for Good Cat Health</td>\n",
       "      <td>The pet food industry can be one of the most i...</td>\n",
       "    </tr>\n",
       "    <tr>\n",
       "      <th>379474</th>\n",
       "      <td>410304</td>\n",
       "      <td>B000084EZ4</td>\n",
       "      <td>A29JUMRL1US6YP</td>\n",
       "      <td>HTBK</td>\n",
       "      <td>4</td>\n",
       "      <td>5</td>\n",
       "      <td>1</td>\n",
       "      <td>1278201600</td>\n",
       "      <td>Fantastic Food for Good Cat Health</td>\n",
       "      <td>The pet food industry can be one of the most i...</td>\n",
       "    </tr>\n",
       "    <tr>\n",
       "      <th>449617</th>\n",
       "      <td>486153</td>\n",
       "      <td>B00008CQVA</td>\n",
       "      <td>A29JUMRL1US6YP</td>\n",
       "      <td>HTBK</td>\n",
       "      <td>4</td>\n",
       "      <td>5</td>\n",
       "      <td>1</td>\n",
       "      <td>1278201600</td>\n",
       "      <td>Fantastic Food for Good Cat Health</td>\n",
       "      <td>The pet food industry can be one of the most i...</td>\n",
       "    </tr>\n",
       "    <tr>\n",
       "      <th>449566</th>\n",
       "      <td>486099</td>\n",
       "      <td>B00008CQVA</td>\n",
       "      <td>A29JUMRL1US6YP</td>\n",
       "      <td>HTBK</td>\n",
       "      <td>7</td>\n",
       "      <td>8</td>\n",
       "      <td>1</td>\n",
       "      <td>1278201600</td>\n",
       "      <td>Fantastic Food for Good Cat Health</td>\n",
       "      <td>The pet food industry can be one of the most i...</td>\n",
       "    </tr>\n",
       "    <tr>\n",
       "      <th>449514</th>\n",
       "      <td>486040</td>\n",
       "      <td>B00008CQVA</td>\n",
       "      <td>A29JUMRL1US6YP</td>\n",
       "      <td>HTBK</td>\n",
       "      <td>3</td>\n",
       "      <td>4</td>\n",
       "      <td>1</td>\n",
       "      <td>1278201600</td>\n",
       "      <td>Fantastic Food for Good Cat Health</td>\n",
       "      <td>The pet food industry can be one of the most i...</td>\n",
       "    </tr>\n",
       "    <tr>\n",
       "      <th>449570</th>\n",
       "      <td>486103</td>\n",
       "      <td>B00008CQVA</td>\n",
       "      <td>A29JUMRL1US6YP</td>\n",
       "      <td>HTBK</td>\n",
       "      <td>4</td>\n",
       "      <td>4</td>\n",
       "      <td>1</td>\n",
       "      <td>1278201600</td>\n",
       "      <td>Fantastic Food for Good Cat Health</td>\n",
       "      <td>The pet food industry can be one of the most i...</td>\n",
       "    </tr>\n",
       "    <tr>\n",
       "      <th>449527</th>\n",
       "      <td>486055</td>\n",
       "      <td>B00008CQVA</td>\n",
       "      <td>A34UV2FFXJPS3T</td>\n",
       "      <td>Susan Ackoff</td>\n",
       "      <td>0</td>\n",
       "      <td>0</td>\n",
       "      <td>1</td>\n",
       "      <td>1294185600</td>\n",
       "      <td>My Cats love it</td>\n",
       "      <td>Wellness wet cat food is terrific.&lt;br /&gt;My thr...</td>\n",
       "    </tr>\n",
       "    <tr>\n",
       "      <th>...</th>\n",
       "      <td>...</td>\n",
       "      <td>...</td>\n",
       "      <td>...</td>\n",
       "      <td>...</td>\n",
       "      <td>...</td>\n",
       "      <td>...</td>\n",
       "      <td>...</td>\n",
       "      <td>...</td>\n",
       "      <td>...</td>\n",
       "      <td>...</td>\n",
       "    </tr>\n",
       "    <tr>\n",
       "      <th>296656</th>\n",
       "      <td>321348</td>\n",
       "      <td>B008RWUHA6</td>\n",
       "      <td>A2BQWD54CXBX6R</td>\n",
       "      <td>Kym McNabney \"Writing From The Soul\"</td>\n",
       "      <td>1</td>\n",
       "      <td>1</td>\n",
       "      <td>1</td>\n",
       "      <td>1320364800</td>\n",
       "      <td>SURPRISINGLY WOUNDERFUL</td>\n",
       "      <td>Anything that has the following words grabs my...</td>\n",
       "    </tr>\n",
       "    <tr>\n",
       "      <th>168384</th>\n",
       "      <td>182580</td>\n",
       "      <td>B008RWUKXK</td>\n",
       "      <td>A2BQWD54CXBX6R</td>\n",
       "      <td>Kym McNabney \"Writing From The Soul\"</td>\n",
       "      <td>1</td>\n",
       "      <td>1</td>\n",
       "      <td>1</td>\n",
       "      <td>1320364800</td>\n",
       "      <td>SURPRISINGLY WOUNDERFUL</td>\n",
       "      <td>Anything that has the following words grabs my...</td>\n",
       "    </tr>\n",
       "    <tr>\n",
       "      <th>349040</th>\n",
       "      <td>377543</td>\n",
       "      <td>B00975HC9G</td>\n",
       "      <td>A20P8VC55KPPCT</td>\n",
       "      <td>FL Mom</td>\n",
       "      <td>0</td>\n",
       "      <td>0</td>\n",
       "      <td>1</td>\n",
       "      <td>1310860800</td>\n",
       "      <td>Love all HappyBaby Tots!</td>\n",
       "      <td>My kids (18 mo and 3 yrs) love the HappyBaby T...</td>\n",
       "    </tr>\n",
       "    <tr>\n",
       "      <th>462244</th>\n",
       "      <td>499847</td>\n",
       "      <td>B009B87SAC</td>\n",
       "      <td>A3TVZM3ZIXG8YW</td>\n",
       "      <td>christopher hayes</td>\n",
       "      <td>18</td>\n",
       "      <td>24</td>\n",
       "      <td>0</td>\n",
       "      <td>1291420800</td>\n",
       "      <td>Filler food is empty, leaves your cat always n...</td>\n",
       "      <td>This review will make me sound really stupid, ...</td>\n",
       "    </tr>\n",
       "    <tr>\n",
       "      <th>462262</th>\n",
       "      <td>499865</td>\n",
       "      <td>B009B87SAC</td>\n",
       "      <td>A3TVZM3ZIXG8YW</td>\n",
       "      <td>christopher hayes</td>\n",
       "      <td>33</td>\n",
       "      <td>48</td>\n",
       "      <td>0</td>\n",
       "      <td>1291420800</td>\n",
       "      <td>Filler food is empty, leaves your cat always n...</td>\n",
       "      <td>This review will make me sound really stupid, ...</td>\n",
       "    </tr>\n",
       "    <tr>\n",
       "      <th>462257</th>\n",
       "      <td>499860</td>\n",
       "      <td>B009B87SAC</td>\n",
       "      <td>A25C5MVVCIYT5D</td>\n",
       "      <td>Natalie Dawn</td>\n",
       "      <td>2</td>\n",
       "      <td>2</td>\n",
       "      <td>1</td>\n",
       "      <td>1304726400</td>\n",
       "      <td>Nothing else works</td>\n",
       "      <td>I understand all the complaints about Science ...</td>\n",
       "    </tr>\n",
       "    <tr>\n",
       "      <th>462254</th>\n",
       "      <td>499857</td>\n",
       "      <td>B009B87SAC</td>\n",
       "      <td>A3TVZM3ZIXG8YW</td>\n",
       "      <td>christopher hayes</td>\n",
       "      <td>11</td>\n",
       "      <td>15</td>\n",
       "      <td>0</td>\n",
       "      <td>1291420800</td>\n",
       "      <td>Filler food is empty, leaves your cat always n...</td>\n",
       "      <td>This review will make me sound really stupid, ...</td>\n",
       "    </tr>\n",
       "    <tr>\n",
       "      <th>462253</th>\n",
       "      <td>499856</td>\n",
       "      <td>B009B87SAC</td>\n",
       "      <td>A3TVZM3ZIXG8YW</td>\n",
       "      <td>christopher hayes</td>\n",
       "      <td>11</td>\n",
       "      <td>15</td>\n",
       "      <td>0</td>\n",
       "      <td>1291420800</td>\n",
       "      <td>Filler food is empty, leaves your cat always n...</td>\n",
       "      <td>This review will make me sound really stupid, ...</td>\n",
       "    </tr>\n",
       "    <tr>\n",
       "      <th>462252</th>\n",
       "      <td>499855</td>\n",
       "      <td>B009B87SAC</td>\n",
       "      <td>A3TVZM3ZIXG8YW</td>\n",
       "      <td>christopher hayes</td>\n",
       "      <td>7</td>\n",
       "      <td>9</td>\n",
       "      <td>0</td>\n",
       "      <td>1291420800</td>\n",
       "      <td>Filler food is empty, leaves your cat always n...</td>\n",
       "      <td>This review will make me sound really stupid, ...</td>\n",
       "    </tr>\n",
       "    <tr>\n",
       "      <th>462248</th>\n",
       "      <td>499851</td>\n",
       "      <td>B009B87SAC</td>\n",
       "      <td>A36JDIN9RAAIEC</td>\n",
       "      <td>Jon</td>\n",
       "      <td>3</td>\n",
       "      <td>3</td>\n",
       "      <td>1</td>\n",
       "      <td>1292976000</td>\n",
       "      <td>Great product, but trust your vet not the hype</td>\n",
       "      <td>I have two cats, one 6 and one 2 years old. Bo...</td>\n",
       "    </tr>\n",
       "    <tr>\n",
       "      <th>462249</th>\n",
       "      <td>499852</td>\n",
       "      <td>B009B87SAC</td>\n",
       "      <td>A3TVZM3ZIXG8YW</td>\n",
       "      <td>christopher hayes</td>\n",
       "      <td>3</td>\n",
       "      <td>3</td>\n",
       "      <td>0</td>\n",
       "      <td>1291420800</td>\n",
       "      <td>Filler food is empty, leaves your cat always n...</td>\n",
       "      <td>This review will make me sound really stupid, ...</td>\n",
       "    </tr>\n",
       "    <tr>\n",
       "      <th>462259</th>\n",
       "      <td>499862</td>\n",
       "      <td>B009B87SAC</td>\n",
       "      <td>A36JDIN9RAAIEC</td>\n",
       "      <td>Jon</td>\n",
       "      <td>2</td>\n",
       "      <td>2</td>\n",
       "      <td>1</td>\n",
       "      <td>1292976000</td>\n",
       "      <td>Great product, but trust your vet not the hype</td>\n",
       "      <td>I have two cats, one 6 and one 2 years old. Bo...</td>\n",
       "    </tr>\n",
       "    <tr>\n",
       "      <th>462311</th>\n",
       "      <td>499917</td>\n",
       "      <td>B009B87SAC</td>\n",
       "      <td>A3TVZM3ZIXG8YW</td>\n",
       "      <td>christopher hayes</td>\n",
       "      <td>6</td>\n",
       "      <td>14</td>\n",
       "      <td>0</td>\n",
       "      <td>1291420800</td>\n",
       "      <td>Filler food is empty, leaves your cat always n...</td>\n",
       "      <td>This review will make me sound really stupid, ...</td>\n",
       "    </tr>\n",
       "    <tr>\n",
       "      <th>462312</th>\n",
       "      <td>499918</td>\n",
       "      <td>B009B87SAC</td>\n",
       "      <td>A3TVZM3ZIXG8YW</td>\n",
       "      <td>christopher hayes</td>\n",
       "      <td>6</td>\n",
       "      <td>15</td>\n",
       "      <td>0</td>\n",
       "      <td>1291420800</td>\n",
       "      <td>Filler food is empty, leaves your cat always n...</td>\n",
       "      <td>This review will make me sound really stupid, ...</td>\n",
       "    </tr>\n",
       "    <tr>\n",
       "      <th>462300</th>\n",
       "      <td>499906</td>\n",
       "      <td>B009B87SAC</td>\n",
       "      <td>A3TVZM3ZIXG8YW</td>\n",
       "      <td>christopher hayes</td>\n",
       "      <td>2</td>\n",
       "      <td>4</td>\n",
       "      <td>0</td>\n",
       "      <td>1291420800</td>\n",
       "      <td>Filler food is empty, leaves your cat always n...</td>\n",
       "      <td>This review will make me sound really stupid, ...</td>\n",
       "    </tr>\n",
       "    <tr>\n",
       "      <th>411619</th>\n",
       "      <td>445168</td>\n",
       "      <td>B009GHI5Q4</td>\n",
       "      <td>A36JDIN9RAAIEC</td>\n",
       "      <td>Jon</td>\n",
       "      <td>2</td>\n",
       "      <td>2</td>\n",
       "      <td>1</td>\n",
       "      <td>1292976000</td>\n",
       "      <td>Don't fall prey to fads and anecdotal reviews</td>\n",
       "      <td>I have two cats, one 6 and one 2 years old. Bo...</td>\n",
       "    </tr>\n",
       "    <tr>\n",
       "      <th>411613</th>\n",
       "      <td>445162</td>\n",
       "      <td>B009GHI5Q4</td>\n",
       "      <td>A3TVZM3ZIXG8YW</td>\n",
       "      <td>christopher hayes</td>\n",
       "      <td>11</td>\n",
       "      <td>15</td>\n",
       "      <td>0</td>\n",
       "      <td>1291420800</td>\n",
       "      <td>Filler food is empty, leaves your cat always n...</td>\n",
       "      <td>This review will make me sound really stupid, ...</td>\n",
       "    </tr>\n",
       "    <tr>\n",
       "      <th>411659</th>\n",
       "      <td>445211</td>\n",
       "      <td>B009GHI5Q4</td>\n",
       "      <td>A3TVZM3ZIXG8YW</td>\n",
       "      <td>christopher hayes</td>\n",
       "      <td>2</td>\n",
       "      <td>4</td>\n",
       "      <td>0</td>\n",
       "      <td>1291420800</td>\n",
       "      <td>Filler food is empty, leaves your cat always n...</td>\n",
       "      <td>This review will make me sound really stupid, ...</td>\n",
       "    </tr>\n",
       "    <tr>\n",
       "      <th>411599</th>\n",
       "      <td>445147</td>\n",
       "      <td>B009GHI5Q4</td>\n",
       "      <td>A3TVZM3ZIXG8YW</td>\n",
       "      <td>christopher hayes</td>\n",
       "      <td>19</td>\n",
       "      <td>21</td>\n",
       "      <td>0</td>\n",
       "      <td>1291420800</td>\n",
       "      <td>Filler food is empty, leaves your cat always n...</td>\n",
       "      <td>This review will make me sound really stupid, ...</td>\n",
       "    </tr>\n",
       "    <tr>\n",
       "      <th>411671</th>\n",
       "      <td>445223</td>\n",
       "      <td>B009GHI5Q4</td>\n",
       "      <td>A3TVZM3ZIXG8YW</td>\n",
       "      <td>christopher hayes</td>\n",
       "      <td>6</td>\n",
       "      <td>15</td>\n",
       "      <td>0</td>\n",
       "      <td>1291420800</td>\n",
       "      <td>Filler food is empty, leaves your cat always n...</td>\n",
       "      <td>This review will make me sound really stupid, ...</td>\n",
       "    </tr>\n",
       "    <tr>\n",
       "      <th>411670</th>\n",
       "      <td>445222</td>\n",
       "      <td>B009GHI5Q4</td>\n",
       "      <td>A3TVZM3ZIXG8YW</td>\n",
       "      <td>christopher hayes</td>\n",
       "      <td>6</td>\n",
       "      <td>14</td>\n",
       "      <td>0</td>\n",
       "      <td>1291420800</td>\n",
       "      <td>Filler food is empty, leaves your cat always n...</td>\n",
       "      <td>This review will make me sound really stupid, ...</td>\n",
       "    </tr>\n",
       "    <tr>\n",
       "      <th>411612</th>\n",
       "      <td>445161</td>\n",
       "      <td>B009GHI5Q4</td>\n",
       "      <td>A3TVZM3ZIXG8YW</td>\n",
       "      <td>christopher hayes</td>\n",
       "      <td>11</td>\n",
       "      <td>15</td>\n",
       "      <td>0</td>\n",
       "      <td>1291420800</td>\n",
       "      <td>Filler food is empty, leaves your cat always n...</td>\n",
       "      <td>This review will make me sound really stupid, ...</td>\n",
       "    </tr>\n",
       "    <tr>\n",
       "      <th>411608</th>\n",
       "      <td>445157</td>\n",
       "      <td>B009GHI5Q4</td>\n",
       "      <td>A3TVZM3ZIXG8YW</td>\n",
       "      <td>christopher hayes</td>\n",
       "      <td>3</td>\n",
       "      <td>3</td>\n",
       "      <td>0</td>\n",
       "      <td>1291420800</td>\n",
       "      <td>Filler food is empty, leaves your cat always n...</td>\n",
       "      <td>This review will make me sound really stupid, ...</td>\n",
       "    </tr>\n",
       "    <tr>\n",
       "      <th>411607</th>\n",
       "      <td>445156</td>\n",
       "      <td>B009GHI5Q4</td>\n",
       "      <td>A36JDIN9RAAIEC</td>\n",
       "      <td>Jon</td>\n",
       "      <td>3</td>\n",
       "      <td>3</td>\n",
       "      <td>1</td>\n",
       "      <td>1292976000</td>\n",
       "      <td>Great product, but trust your vet not the hype</td>\n",
       "      <td>I have two cats, one 6 and one 2 years old. Bo...</td>\n",
       "    </tr>\n",
       "    <tr>\n",
       "      <th>411611</th>\n",
       "      <td>445160</td>\n",
       "      <td>B009GHI5Q4</td>\n",
       "      <td>A3TVZM3ZIXG8YW</td>\n",
       "      <td>christopher hayes</td>\n",
       "      <td>7</td>\n",
       "      <td>9</td>\n",
       "      <td>0</td>\n",
       "      <td>1291420800</td>\n",
       "      <td>Filler food is empty, leaves your cat always n...</td>\n",
       "      <td>This review will make me sound really stupid, ...</td>\n",
       "    </tr>\n",
       "    <tr>\n",
       "      <th>411603</th>\n",
       "      <td>445152</td>\n",
       "      <td>B009GHI5Q4</td>\n",
       "      <td>A3TVZM3ZIXG8YW</td>\n",
       "      <td>christopher hayes</td>\n",
       "      <td>18</td>\n",
       "      <td>24</td>\n",
       "      <td>0</td>\n",
       "      <td>1291420800</td>\n",
       "      <td>Filler food is empty, leaves your cat always n...</td>\n",
       "      <td>This review will make me sound really stupid, ...</td>\n",
       "    </tr>\n",
       "    <tr>\n",
       "      <th>411633</th>\n",
       "      <td>445184</td>\n",
       "      <td>B009GHI5Q4</td>\n",
       "      <td>A25C5MVVCIYT5D</td>\n",
       "      <td>Natalie Dawn</td>\n",
       "      <td>1</td>\n",
       "      <td>1</td>\n",
       "      <td>1</td>\n",
       "      <td>1304726400</td>\n",
       "      <td>The only thing that worked</td>\n",
       "      <td>I understand all the complaints about Science ...</td>\n",
       "    </tr>\n",
       "    <tr>\n",
       "      <th>62138</th>\n",
       "      <td>67510</td>\n",
       "      <td>B009GHI6I6</td>\n",
       "      <td>A3TVZM3ZIXG8YW</td>\n",
       "      <td>christopher hayes</td>\n",
       "      <td>7</td>\n",
       "      <td>11</td>\n",
       "      <td>0</td>\n",
       "      <td>1291420800</td>\n",
       "      <td>Filler food is empty, leaves your cat always n...</td>\n",
       "      <td>This review will make me sound really stupid, ...</td>\n",
       "    </tr>\n",
       "    <tr>\n",
       "      <th>62140</th>\n",
       "      <td>67512</td>\n",
       "      <td>B009GHI6I6</td>\n",
       "      <td>A2ISKAWUPGGOLZ</td>\n",
       "      <td>M. S. Handley</td>\n",
       "      <td>2</td>\n",
       "      <td>4</td>\n",
       "      <td>0</td>\n",
       "      <td>1310774400</td>\n",
       "      <td>Kitty Junk Food</td>\n",
       "      <td>We have five cats - one an elderly cat of 15 y...</td>\n",
       "    </tr>\n",
       "    <tr>\n",
       "      <th>386483</th>\n",
       "      <td>417942</td>\n",
       "      <td>B009RB4GO4</td>\n",
       "      <td>A21GDMT9JN2A5Y</td>\n",
       "      <td>Wayward Traveller \"WaywardT\"</td>\n",
       "      <td>0</td>\n",
       "      <td>1</td>\n",
       "      <td>0</td>\n",
       "      <td>1309910400</td>\n",
       "      <td>Does not taste at all like I thought I would :)</td>\n",
       "      <td>I really had high expectations of this product...</td>\n",
       "    </tr>\n",
       "  </tbody>\n",
       "</table>\n",
       "<p>1227 rows × 10 columns</p>\n",
       "</div>"
      ],
      "text/plain": [
       "            Id   ProductId          UserId  \\\n",
       "157843  171154  7310172001   AJD41FBJD9010   \n",
       "157908  171223  7310172001   AJD41FBJD9010   \n",
       "157876  171189  7310172001   AJD41FBJD9010   \n",
       "200631  217420  7310172101   AJD41FBJD9010   \n",
       "200596  217383  7310172101   AJD41FBJD9010   \n",
       "200597  217384  7310172101   AJD41FBJD9010   \n",
       "341818  369802  B000084DWM  A36JDIN9RAAIEC   \n",
       "341820  369804  B000084DWM  A3TVZM3ZIXG8YW   \n",
       "341815  369799  B000084DWM  A25C5MVVCIYT5D   \n",
       "341798  369781  B000084DWM  A3TVZM3ZIXG8YW   \n",
       "341802  369786  B000084DWM  A3TVZM3ZIXG8YW   \n",
       "341806  369790  B000084DWM  A36JDIN9RAAIEC   \n",
       "341807  369791  B000084DWM  A3TVZM3ZIXG8YW   \n",
       "341810  369794  B000084DWM  A3TVZM3ZIXG8YW   \n",
       "341811  369795  B000084DWM  A3TVZM3ZIXG8YW   \n",
       "341812  369796  B000084DWM  A3TVZM3ZIXG8YW   \n",
       "341858  369845  B000084DWM  A3TVZM3ZIXG8YW   \n",
       "341870  369857  B000084DWM  A3TVZM3ZIXG8YW   \n",
       "379416  410243  B000084EZ4  A29JUMRL1US6YP   \n",
       "379440  410268  B000084EZ4  A29JUMRL1US6YP   \n",
       "379439  410267  B000084EZ4  A29JUMRL1US6YP   \n",
       "379466  410296  B000084EZ4  A34UV2FFXJPS3T   \n",
       "379437  410265  B000084EZ4  A2FGXWWR8ZU59C   \n",
       "379427  410254  B000084EZ4  A29JUMRL1US6YP   \n",
       "379474  410304  B000084EZ4  A29JUMRL1US6YP   \n",
       "449617  486153  B00008CQVA  A29JUMRL1US6YP   \n",
       "449566  486099  B00008CQVA  A29JUMRL1US6YP   \n",
       "449514  486040  B00008CQVA  A29JUMRL1US6YP   \n",
       "449570  486103  B00008CQVA  A29JUMRL1US6YP   \n",
       "449527  486055  B00008CQVA  A34UV2FFXJPS3T   \n",
       "...        ...         ...             ...   \n",
       "296656  321348  B008RWUHA6  A2BQWD54CXBX6R   \n",
       "168384  182580  B008RWUKXK  A2BQWD54CXBX6R   \n",
       "349040  377543  B00975HC9G  A20P8VC55KPPCT   \n",
       "462244  499847  B009B87SAC  A3TVZM3ZIXG8YW   \n",
       "462262  499865  B009B87SAC  A3TVZM3ZIXG8YW   \n",
       "462257  499860  B009B87SAC  A25C5MVVCIYT5D   \n",
       "462254  499857  B009B87SAC  A3TVZM3ZIXG8YW   \n",
       "462253  499856  B009B87SAC  A3TVZM3ZIXG8YW   \n",
       "462252  499855  B009B87SAC  A3TVZM3ZIXG8YW   \n",
       "462248  499851  B009B87SAC  A36JDIN9RAAIEC   \n",
       "462249  499852  B009B87SAC  A3TVZM3ZIXG8YW   \n",
       "462259  499862  B009B87SAC  A36JDIN9RAAIEC   \n",
       "462311  499917  B009B87SAC  A3TVZM3ZIXG8YW   \n",
       "462312  499918  B009B87SAC  A3TVZM3ZIXG8YW   \n",
       "462300  499906  B009B87SAC  A3TVZM3ZIXG8YW   \n",
       "411619  445168  B009GHI5Q4  A36JDIN9RAAIEC   \n",
       "411613  445162  B009GHI5Q4  A3TVZM3ZIXG8YW   \n",
       "411659  445211  B009GHI5Q4  A3TVZM3ZIXG8YW   \n",
       "411599  445147  B009GHI5Q4  A3TVZM3ZIXG8YW   \n",
       "411671  445223  B009GHI5Q4  A3TVZM3ZIXG8YW   \n",
       "411670  445222  B009GHI5Q4  A3TVZM3ZIXG8YW   \n",
       "411612  445161  B009GHI5Q4  A3TVZM3ZIXG8YW   \n",
       "411608  445157  B009GHI5Q4  A3TVZM3ZIXG8YW   \n",
       "411607  445156  B009GHI5Q4  A36JDIN9RAAIEC   \n",
       "411611  445160  B009GHI5Q4  A3TVZM3ZIXG8YW   \n",
       "411603  445152  B009GHI5Q4  A3TVZM3ZIXG8YW   \n",
       "411633  445184  B009GHI5Q4  A25C5MVVCIYT5D   \n",
       "62138    67510  B009GHI6I6  A3TVZM3ZIXG8YW   \n",
       "62140    67512  B009GHI6I6  A2ISKAWUPGGOLZ   \n",
       "386483  417942  B009RB4GO4  A21GDMT9JN2A5Y   \n",
       "\n",
       "                                         ProfileName  HelpfulnessNumerator  \\\n",
       "157843  N. Ferguson \"Two, Daisy, Hannah, and Kitten\"                     0   \n",
       "157908  N. Ferguson \"Two, Daisy, Hannah, and Kitten\"                     1   \n",
       "157876  N. Ferguson \"Two, Daisy, Hannah, and Kitten\"                    39   \n",
       "200631  N. Ferguson \"Two, Daisy, Hannah, and Kitten\"                    39   \n",
       "200596  N. Ferguson \"Two, Daisy, Hannah, and Kitten\"                     0   \n",
       "200597  N. Ferguson \"Two, Daisy, Hannah, and Kitten\"                     0   \n",
       "341818                                           Jon                     2   \n",
       "341820                             christopher hayes                    33   \n",
       "341815                                  Natalie Dawn                     2   \n",
       "341798                             christopher hayes                    19   \n",
       "341802                             christopher hayes                    18   \n",
       "341806                                           Jon                     3   \n",
       "341807                             christopher hayes                     3   \n",
       "341810                             christopher hayes                     7   \n",
       "341811                             christopher hayes                    11   \n",
       "341812                             christopher hayes                    11   \n",
       "341858                             christopher hayes                     2   \n",
       "341870                             christopher hayes                     6   \n",
       "379416                                          HTBK                    12   \n",
       "379440                                          HTBK                     3   \n",
       "379439                                          HTBK                     3   \n",
       "379466                                  Susan Ackoff                     2   \n",
       "379437                               Thomas Lawrence                     3   \n",
       "379427                                          HTBK                     4   \n",
       "379474                                          HTBK                     4   \n",
       "449617                                          HTBK                     4   \n",
       "449566                                          HTBK                     7   \n",
       "449514                                          HTBK                     3   \n",
       "449570                                          HTBK                     4   \n",
       "449527                                  Susan Ackoff                     0   \n",
       "...                                              ...                   ...   \n",
       "296656          Kym McNabney \"Writing From The Soul\"                     1   \n",
       "168384          Kym McNabney \"Writing From The Soul\"                     1   \n",
       "349040                                        FL Mom                     0   \n",
       "462244                             christopher hayes                    18   \n",
       "462262                             christopher hayes                    33   \n",
       "462257                                  Natalie Dawn                     2   \n",
       "462254                             christopher hayes                    11   \n",
       "462253                             christopher hayes                    11   \n",
       "462252                             christopher hayes                     7   \n",
       "462248                                           Jon                     3   \n",
       "462249                             christopher hayes                     3   \n",
       "462259                                           Jon                     2   \n",
       "462311                             christopher hayes                     6   \n",
       "462312                             christopher hayes                     6   \n",
       "462300                             christopher hayes                     2   \n",
       "411619                                           Jon                     2   \n",
       "411613                             christopher hayes                    11   \n",
       "411659                             christopher hayes                     2   \n",
       "411599                             christopher hayes                    19   \n",
       "411671                             christopher hayes                     6   \n",
       "411670                             christopher hayes                     6   \n",
       "411612                             christopher hayes                    11   \n",
       "411608                             christopher hayes                     3   \n",
       "411607                                           Jon                     3   \n",
       "411611                             christopher hayes                     7   \n",
       "411603                             christopher hayes                    18   \n",
       "411633                                  Natalie Dawn                     1   \n",
       "62138                              christopher hayes                     7   \n",
       "62140                                  M. S. Handley                     2   \n",
       "386483                  Wayward Traveller \"WaywardT\"                     0   \n",
       "\n",
       "        HelpfulnessDenominator  Score        Time  \\\n",
       "157843                       0      1  1233360000   \n",
       "157908                       1      1  1233360000   \n",
       "157876                      51      1  1233360000   \n",
       "200631                      51      1  1233360000   \n",
       "200596                       0      1  1233360000   \n",
       "200597                       0      1  1233360000   \n",
       "341818                       2      1  1292976000   \n",
       "341820                      48      0  1291420800   \n",
       "341815                       2      1  1304726400   \n",
       "341798                      21      0  1291420800   \n",
       "341802                      24      0  1291420800   \n",
       "341806                       3      1  1292976000   \n",
       "341807                       3      0  1291420800   \n",
       "341810                       9      0  1291420800   \n",
       "341811                      15      0  1291420800   \n",
       "341812                      15      0  1291420800   \n",
       "341858                       4      0  1291420800   \n",
       "341870                      15      0  1291420800   \n",
       "379416                      14      1  1278201600   \n",
       "379440                       3      1  1278201600   \n",
       "379439                       3      1  1278201600   \n",
       "379466                       2      1  1294185600   \n",
       "379437                       3      1  1292198400   \n",
       "379427                       4      1  1278201600   \n",
       "379474                       5      1  1278201600   \n",
       "449617                       5      1  1278201600   \n",
       "449566                       8      1  1278201600   \n",
       "449514                       4      1  1278201600   \n",
       "449570                       4      1  1278201600   \n",
       "449527                       0      1  1294185600   \n",
       "...                        ...    ...         ...   \n",
       "296656                       1      1  1320364800   \n",
       "168384                       1      1  1320364800   \n",
       "349040                       0      1  1310860800   \n",
       "462244                      24      0  1291420800   \n",
       "462262                      48      0  1291420800   \n",
       "462257                       2      1  1304726400   \n",
       "462254                      15      0  1291420800   \n",
       "462253                      15      0  1291420800   \n",
       "462252                       9      0  1291420800   \n",
       "462248                       3      1  1292976000   \n",
       "462249                       3      0  1291420800   \n",
       "462259                       2      1  1292976000   \n",
       "462311                      14      0  1291420800   \n",
       "462312                      15      0  1291420800   \n",
       "462300                       4      0  1291420800   \n",
       "411619                       2      1  1292976000   \n",
       "411613                      15      0  1291420800   \n",
       "411659                       4      0  1291420800   \n",
       "411599                      21      0  1291420800   \n",
       "411671                      15      0  1291420800   \n",
       "411670                      14      0  1291420800   \n",
       "411612                      15      0  1291420800   \n",
       "411608                       3      0  1291420800   \n",
       "411607                       3      1  1292976000   \n",
       "411611                       9      0  1291420800   \n",
       "411603                      24      0  1291420800   \n",
       "411633                       1      1  1304726400   \n",
       "62138                       11      0  1291420800   \n",
       "62140                        4      0  1310774400   \n",
       "386483                       1      0  1309910400   \n",
       "\n",
       "                                                  Summary  \\\n",
       "157843  best dog treat-- great for training---  all do...   \n",
       "157908  best dog treat-- great for training---  all do...   \n",
       "157876  NO waste at all ----  great for training  ----...   \n",
       "200631  NO waste at all ----  great for training  ----...   \n",
       "200596  dogs LOVE it--  best treat for rewards and tra...   \n",
       "200597  best dog treat-- great for training---  all do...   \n",
       "341818      Don't fall prey to fads and anecdotal reviews   \n",
       "341820  Filler food is empty, leaves your cat always n...   \n",
       "341815                                 Nothing else works   \n",
       "341798  Filler food is empty, leaves your cat always n...   \n",
       "341802  Filler food is empty, leaves your cat always n...   \n",
       "341806     Great product, but trust your vet not the hype   \n",
       "341807  Filler food is empty, leaves your cat always n...   \n",
       "341810  Filler food is empty, leaves your cat always n...   \n",
       "341811  Filler food is empty, leaves your cat always n...   \n",
       "341812  Filler food is empty, leaves your cat always n...   \n",
       "341858  Filler food is empty, leaves your cat always n...   \n",
       "341870  Filler food is empty, leaves your cat always n...   \n",
       "379416                 Fantastic Food for Good Cat Health   \n",
       "379440                 Fantastic Food for Good Cat Health   \n",
       "379439                 Fantastic Food for Good Cat Health   \n",
       "379466                                     Great Cat Food   \n",
       "379437  Cats love the food, but no pull-tab top, and d...   \n",
       "379427                 Fantastic Food for Good Cat Health   \n",
       "379474                 Fantastic Food for Good Cat Health   \n",
       "449617                 Fantastic Food for Good Cat Health   \n",
       "449566                 Fantastic Food for Good Cat Health   \n",
       "449514                 Fantastic Food for Good Cat Health   \n",
       "449570                 Fantastic Food for Good Cat Health   \n",
       "449527                                    My Cats love it   \n",
       "...                                                   ...   \n",
       "296656                            SURPRISINGLY WOUNDERFUL   \n",
       "168384                            SURPRISINGLY WOUNDERFUL   \n",
       "349040                           Love all HappyBaby Tots!   \n",
       "462244  Filler food is empty, leaves your cat always n...   \n",
       "462262  Filler food is empty, leaves your cat always n...   \n",
       "462257                                 Nothing else works   \n",
       "462254  Filler food is empty, leaves your cat always n...   \n",
       "462253  Filler food is empty, leaves your cat always n...   \n",
       "462252  Filler food is empty, leaves your cat always n...   \n",
       "462248     Great product, but trust your vet not the hype   \n",
       "462249  Filler food is empty, leaves your cat always n...   \n",
       "462259     Great product, but trust your vet not the hype   \n",
       "462311  Filler food is empty, leaves your cat always n...   \n",
       "462312  Filler food is empty, leaves your cat always n...   \n",
       "462300  Filler food is empty, leaves your cat always n...   \n",
       "411619      Don't fall prey to fads and anecdotal reviews   \n",
       "411613  Filler food is empty, leaves your cat always n...   \n",
       "411659  Filler food is empty, leaves your cat always n...   \n",
       "411599  Filler food is empty, leaves your cat always n...   \n",
       "411671  Filler food is empty, leaves your cat always n...   \n",
       "411670  Filler food is empty, leaves your cat always n...   \n",
       "411612  Filler food is empty, leaves your cat always n...   \n",
       "411608  Filler food is empty, leaves your cat always n...   \n",
       "411607     Great product, but trust your vet not the hype   \n",
       "411611  Filler food is empty, leaves your cat always n...   \n",
       "411603  Filler food is empty, leaves your cat always n...   \n",
       "411633                         The only thing that worked   \n",
       "62138   Filler food is empty, leaves your cat always n...   \n",
       "62140                                     Kitty Junk Food   \n",
       "386483    Does not taste at all like I thought I would :)   \n",
       "\n",
       "                                                     Text  \n",
       "157843  Freeze dried liver has a hypnotic effect on do...  \n",
       "157908  Freeze dried liver has a hypnotic effect on do...  \n",
       "157876  Freeze dried liver has a hypnotic effect on do...  \n",
       "200631  Freeze dried liver has a hypnotic effect on do...  \n",
       "200596  Freeze dried liver has a hypnotic effect on do...  \n",
       "200597  Freeze dried liver has a hypnotic effect on do...  \n",
       "341818  I have two cats, one 6 and one 2 years old. Bo...  \n",
       "341820  This review will make me sound really stupid, ...  \n",
       "341815  I understand all the complaints about Science ...  \n",
       "341798  This review will make me sound really stupid, ...  \n",
       "341802  This review will make me sound really stupid, ...  \n",
       "341806  I have two cats, one 6 and one 2 years old. Bo...  \n",
       "341807  This review will make me sound really stupid, ...  \n",
       "341810  This review will make me sound really stupid, ...  \n",
       "341811  This review will make me sound really stupid, ...  \n",
       "341812  This review will make me sound really stupid, ...  \n",
       "341858  This review will make me sound really stupid, ...  \n",
       "341870  This review will make me sound really stupid, ...  \n",
       "379416  The pet food industry can be one of the most i...  \n",
       "379440  The pet food industry can be one of the most i...  \n",
       "379439  The pet food industry can be one of the most i...  \n",
       "379466  Wellness wet cat food is terrific.<br />My thr...  \n",
       "379437  I appreciate being able to buy this larger, mo...  \n",
       "379427  The pet food industry can be one of the most i...  \n",
       "379474  The pet food industry can be one of the most i...  \n",
       "449617  The pet food industry can be one of the most i...  \n",
       "449566  The pet food industry can be one of the most i...  \n",
       "449514  The pet food industry can be one of the most i...  \n",
       "449570  The pet food industry can be one of the most i...  \n",
       "449527  Wellness wet cat food is terrific.<br />My thr...  \n",
       "...                                                   ...  \n",
       "296656  Anything that has the following words grabs my...  \n",
       "168384  Anything that has the following words grabs my...  \n",
       "349040  My kids (18 mo and 3 yrs) love the HappyBaby T...  \n",
       "462244  This review will make me sound really stupid, ...  \n",
       "462262  This review will make me sound really stupid, ...  \n",
       "462257  I understand all the complaints about Science ...  \n",
       "462254  This review will make me sound really stupid, ...  \n",
       "462253  This review will make me sound really stupid, ...  \n",
       "462252  This review will make me sound really stupid, ...  \n",
       "462248  I have two cats, one 6 and one 2 years old. Bo...  \n",
       "462249  This review will make me sound really stupid, ...  \n",
       "462259  I have two cats, one 6 and one 2 years old. Bo...  \n",
       "462311  This review will make me sound really stupid, ...  \n",
       "462312  This review will make me sound really stupid, ...  \n",
       "462300  This review will make me sound really stupid, ...  \n",
       "411619  I have two cats, one 6 and one 2 years old. Bo...  \n",
       "411613  This review will make me sound really stupid, ...  \n",
       "411659  This review will make me sound really stupid, ...  \n",
       "411599  This review will make me sound really stupid, ...  \n",
       "411671  This review will make me sound really stupid, ...  \n",
       "411670  This review will make me sound really stupid, ...  \n",
       "411612  This review will make me sound really stupid, ...  \n",
       "411608  This review will make me sound really stupid, ...  \n",
       "411607  I have two cats, one 6 and one 2 years old. Bo...  \n",
       "411611  This review will make me sound really stupid, ...  \n",
       "411603  This review will make me sound really stupid, ...  \n",
       "411633  I understand all the complaints about Science ...  \n",
       "62138   This review will make me sound really stupid, ...  \n",
       "62140   We have five cats - one an elderly cat of 15 y...  \n",
       "386483  I really had high expectations of this product...  \n",
       "\n",
       "[1227 rows x 10 columns]"
      ]
     },
     "execution_count": 7,
     "metadata": {},
     "output_type": "execute_result"
    }
   ],
   "source": [
    "# this df shows the DUplicate records are present in the table\n",
    "\n",
    "sorted_df[sorted_df.duplicated(subset=['ProductId','UserId','Text'])]"
   ]
  },
  {
   "cell_type": "code",
   "execution_count": 8,
   "metadata": {},
   "outputs": [
    {
     "data": {
      "text/plain": [
       "(524587, 10)"
      ]
     },
     "execution_count": 8,
     "metadata": {},
     "output_type": "execute_result"
    }
   ],
   "source": [
    "df = df.drop_duplicates(subset=['ProductId','UserId','Text'])\n",
    "df.shape"
   ]
  },
  {
   "cell_type": "code",
   "execution_count": 9,
   "metadata": {},
   "outputs": [
    {
     "name": "stdout",
     "output_type": "stream",
     "text": [
      "<class 'pandas.core.frame.DataFrame'>\n",
      "Int64Index: 524587 entries, 0 to 525813\n",
      "Data columns (total 10 columns):\n",
      "Id                        524587 non-null int64\n",
      "ProductId                 524587 non-null object\n",
      "UserId                    524587 non-null object\n",
      "ProfileName               524587 non-null object\n",
      "HelpfulnessNumerator      524587 non-null int64\n",
      "HelpfulnessDenominator    524587 non-null int64\n",
      "Score                     524587 non-null int64\n",
      "Time                      524587 non-null int64\n",
      "Summary                   524587 non-null object\n",
      "Text                      524587 non-null object\n",
      "dtypes: int64(5), object(5)\n",
      "memory usage: 44.0+ MB\n"
     ]
    }
   ],
   "source": [
    "# CHecking for null values\n",
    "df.info()"
   ]
  },
  {
   "cell_type": "code",
   "execution_count": 10,
   "metadata": {},
   "outputs": [
    {
     "data": {
      "text/plain": [
       "Index(['Id', 'ProductId', 'UserId', 'ProfileName', 'HelpfulnessNumerator',\n",
       "       'HelpfulnessDenominator', 'Score', 'Time', 'Summary', 'Text'],\n",
       "      dtype='object')"
      ]
     },
     "execution_count": 10,
     "metadata": {},
     "output_type": "execute_result"
    }
   ],
   "source": [
    "df.columns"
   ]
  },
  {
   "cell_type": "code",
   "execution_count": 11,
   "metadata": {},
   "outputs": [
    {
     "data": {
      "text/html": [
       "<div>\n",
       "<style scoped>\n",
       "    .dataframe tbody tr th:only-of-type {\n",
       "        vertical-align: middle;\n",
       "    }\n",
       "\n",
       "    .dataframe tbody tr th {\n",
       "        vertical-align: top;\n",
       "    }\n",
       "\n",
       "    .dataframe thead th {\n",
       "        text-align: right;\n",
       "    }\n",
       "</style>\n",
       "<table border=\"1\" class=\"dataframe\">\n",
       "  <thead>\n",
       "    <tr style=\"text-align: right;\">\n",
       "      <th></th>\n",
       "      <th>Id</th>\n",
       "      <th>ProductId</th>\n",
       "      <th>UserId</th>\n",
       "      <th>ProfileName</th>\n",
       "      <th>HelpfulnessNumerator</th>\n",
       "      <th>HelpfulnessDenominator</th>\n",
       "      <th>Score</th>\n",
       "      <th>Time</th>\n",
       "      <th>Summary</th>\n",
       "      <th>Text</th>\n",
       "    </tr>\n",
       "  </thead>\n",
       "  <tbody>\n",
       "    <tr>\n",
       "      <th>41159</th>\n",
       "      <td>44737</td>\n",
       "      <td>B001EQ55RW</td>\n",
       "      <td>A2V0I904FH7ABY</td>\n",
       "      <td>Ram</td>\n",
       "      <td>3</td>\n",
       "      <td>2</td>\n",
       "      <td>1</td>\n",
       "      <td>1212883200</td>\n",
       "      <td>Pure cocoa taste with crunchy almonds inside</td>\n",
       "      <td>It was almost a 'love at first bite' - the per...</td>\n",
       "    </tr>\n",
       "    <tr>\n",
       "      <th>59301</th>\n",
       "      <td>64422</td>\n",
       "      <td>B000MIDROQ</td>\n",
       "      <td>A161DK06JJMCYF</td>\n",
       "      <td>J. E. Stephens \"Jeanne\"</td>\n",
       "      <td>3</td>\n",
       "      <td>1</td>\n",
       "      <td>1</td>\n",
       "      <td>1224892800</td>\n",
       "      <td>Bought This for My Son at College</td>\n",
       "      <td>My son loves spaghetti so I didn't hesitate or...</td>\n",
       "    </tr>\n",
       "  </tbody>\n",
       "</table>\n",
       "</div>"
      ],
      "text/plain": [
       "          Id   ProductId          UserId              ProfileName  \\\n",
       "41159  44737  B001EQ55RW  A2V0I904FH7ABY                      Ram   \n",
       "59301  64422  B000MIDROQ  A161DK06JJMCYF  J. E. Stephens \"Jeanne\"   \n",
       "\n",
       "       HelpfulnessNumerator  HelpfulnessDenominator  Score        Time  \\\n",
       "41159                     3                       2      1  1212883200   \n",
       "59301                     3                       1      1  1224892800   \n",
       "\n",
       "                                            Summary  \\\n",
       "41159  Pure cocoa taste with crunchy almonds inside   \n",
       "59301             Bought This for My Son at College   \n",
       "\n",
       "                                                    Text  \n",
       "41159  It was almost a 'love at first bite' - the per...  \n",
       "59301  My son loves spaghetti so I didn't hesitate or...  "
      ]
     },
     "execution_count": 11,
     "metadata": {},
     "output_type": "execute_result"
    }
   ],
   "source": [
    "# Helpfulness numerator cant be greater then Helpfulness denominator\n",
    "\n",
    "df[df.HelpfulnessNumerator > df.HelpfulnessDenominator]"
   ]
  },
  {
   "cell_type": "code",
   "execution_count": 12,
   "metadata": {},
   "outputs": [
    {
     "data": {
      "text/plain": [
       "(524585, 10)"
      ]
     },
     "execution_count": 12,
     "metadata": {},
     "output_type": "execute_result"
    }
   ],
   "source": [
    "# ABove two rows to be deleted -\n",
    "\n",
    "df = df[df.HelpfulnessNumerator <= df.HelpfulnessDenominator]\n",
    "df.shape"
   ]
  },
  {
   "cell_type": "code",
   "execution_count": 13,
   "metadata": {},
   "outputs": [
    {
     "data": {
      "text/plain": [
       "1    442867\n",
       "0     81718\n",
       "Name: Score, dtype: int64"
      ]
     },
     "execution_count": 13,
     "metadata": {},
     "output_type": "execute_result"
    }
   ],
   "source": [
    "# Checking the dataframe balancing\n",
    "\n",
    "df.Score.value_counts()"
   ]
  },
  {
   "cell_type": "markdown",
   "metadata": {},
   "source": [
    "### Data Preprocessing\n",
    "\n",
    "* Data Cleaning using Regex\n",
    "* Convert all to lower case\n",
    "* Stop word removal\n",
    "* Stemming\n",
    "* Lemmitization (regains the english meaning)\n"
   ]
  },
  {
   "cell_type": "code",
   "execution_count": 14,
   "metadata": {},
   "outputs": [],
   "source": [
    "import time\n",
    "from tqdm import tqdm # for graphical  view of progress bar\n",
    "import re                      # for regular expression\n",
    "from bs4 import BeautifulSoup  # for removing the xml tags\n",
    "\n",
    "from nltk.corpus import stopwords\n",
    "from nltk.stem import SnowballStemmer\n",
    "from nltk.stem import WordNetLemmatizer"
   ]
  },
  {
   "cell_type": "code",
   "execution_count": 15,
   "metadata": {},
   "outputs": [],
   "source": [
    "# Function for regex clean\n",
    "\n",
    "def text_cleaning(sen):\n",
    "    sen = sen.lower()  # coverting all words to lower case\n",
    "    sen = BeautifulSoup(sen,'lxml').get_text()\n",
    "    sen = re.sub(r'<.*?>',\" \",sen)\n",
    "    sen = re.sub(\"\\S*\\d\\S*\", \"\", sen).strip()\n",
    "    sen = re.sub(r\"won't\", \"will not\", sen)\n",
    "    sen = re.sub(r\"can\\'t\", \"can not\", sen)\n",
    "    sen = re.sub(r\"n\\'t\", \" not\", sen)\n",
    "    sen = re.sub(r\"\\'re\", \" are\", sen)\n",
    "    sen = re.sub(r\"\\'s\", \" is\", sen)\n",
    "    sen = re.sub(r\"\\'d\", \" would\", sen)\n",
    "    sen = re.sub(r\"\\'ll\", \" will\", sen)\n",
    "    sen = re.sub(r\"\\'t\", \" not\", sen)\n",
    "    sen = re.sub(r\"\\'ve\", \" have\", sen)\n",
    "    sen = re.sub(r\"\\'m\", \" am\", sen)\n",
    "    sen = re.sub(r\"[^a-zA-Z0-9\\n]\",\" \",sen) # to remoce any special character\n",
    "    \n",
    "    return sen\n",
    "\n",
    "\n",
    "\n",
    "# importing stop words from NLTK---\n",
    "\n",
    "stop_words = list(set(stopwords.words('english')))\n",
    "check = ['no', 'nor', 'not']\n",
    "for i in check:\n",
    "    if i in stop_words:\n",
    "        stop_words.remove(i)\n",
    "\n",
    "\n",
    "        \n",
    "# importing Stemming--\n",
    "stemmer = SnowballStemmer('english')\n",
    "\n",
    "\n",
    "# Importing Lemmatizer ---\n",
    "lemmetizer = WordNetLemmatizer()"
   ]
  },
  {
   "cell_type": "code",
   "execution_count": 16,
   "metadata": {},
   "outputs": [],
   "source": [
    "def processed_text(review):\n",
    "    \n",
    "    processed_review = []\n",
    "    review = text_cleaning(review)\n",
    "    \n",
    "    for word in review.split():\n",
    "        if word not in stop_words:\n",
    "#             word = lemmetizer.lemmatize(word)\n",
    "            processed_review.append(word)\n",
    "            \n",
    "    return  (\" \".join(processed_review))  "
   ]
  },
  {
   "cell_type": "code",
   "execution_count": 25,
   "metadata": {},
   "outputs": [
    {
     "name": "stdout",
     "output_type": "stream",
     "text": [
      "593.3213766 secs\n"
     ]
    }
   ],
   "source": [
    "a = time.clock()\n",
    "\n",
    "processed_review = df.Text.apply(processed_text)\n",
    "\n",
    "b = time.clock()\n",
    "print(b-a,\"secs\")"
   ]
  },
  {
   "cell_type": "code",
   "execution_count": 26,
   "metadata": {},
   "outputs": [
    {
     "data": {
      "text/plain": [
       "(524585,)"
      ]
     },
     "execution_count": 26,
     "metadata": {},
     "output_type": "execute_result"
    }
   ],
   "source": [
    "processed_review.shape"
   ]
  },
  {
   "cell_type": "markdown",
   "metadata": {},
   "source": [
    "## Word Cloud"
   ]
  },
  {
   "cell_type": "code",
   "execution_count": 53,
   "metadata": {},
   "outputs": [],
   "source": [
    "from wordcloud import WordCloud, STOPWORDS"
   ]
  },
  {
   "cell_type": "code",
   "execution_count": null,
   "metadata": {},
   "outputs": [],
   "source": [
    "wc = WordCloud(background_color=\"white\", max_words=len(textp_w), stopwords=stopwords)\n",
    "wc.generate(textp_w)\n",
    "print (\"Word Cloud for Duplicate Question pairs\")\n",
    "plt.imshow(wc, interpolation='bilinear')\n",
    "plt.axis(\"off\")\n",
    "plt.show()"
   ]
  },
  {
   "cell_type": "code",
   "execution_count": 55,
   "metadata": {},
   "outputs": [
    {
     "data": {
      "text/plain": [
       "0    bought several vitality canned dog food produc...\n",
       "1    product arrived labeled jumbo salted peanuts p...\n",
       "2    confection around centuries light pillowy citr...\n",
       "3    looking secret ingredient robitussin believe f...\n",
       "4    great taffy great price wide assortment yummy ...\n",
       "Name: Text, dtype: object"
      ]
     },
     "execution_count": 55,
     "metadata": {},
     "output_type": "execute_result"
    }
   ],
   "source": [
    "sampl = processed_review[0:5]\n",
    "sampl"
   ]
  },
  {
   "cell_type": "code",
   "execution_count": 57,
   "metadata": {},
   "outputs": [
    {
     "ename": "TypeError",
     "evalue": "'WordListCorpusReader' object is not iterable",
     "output_type": "error",
     "traceback": [
      "\u001b[1;31m---------------------------------------------------------------------------\u001b[0m",
      "\u001b[1;31mTypeError\u001b[0m                                 Traceback (most recent call last)",
      "\u001b[1;32m<ipython-input-57-9d36903d3009>\u001b[0m in \u001b[0;36m<module>\u001b[1;34m\u001b[0m\n\u001b[0;32m      3\u001b[0m \u001b[0mwc\u001b[0m \u001b[1;33m=\u001b[0m \u001b[0mWordCloud\u001b[0m\u001b[1;33m(\u001b[0m\u001b[0mbackground_color\u001b[0m\u001b[1;33m=\u001b[0m\u001b[1;34m\"white\"\u001b[0m\u001b[1;33m,\u001b[0m\u001b[0mstopwords\u001b[0m\u001b[1;33m=\u001b[0m\u001b[0mstopwords\u001b[0m\u001b[1;33m)\u001b[0m\u001b[1;33m\u001b[0m\u001b[1;33m\u001b[0m\u001b[0m\n\u001b[0;32m      4\u001b[0m \u001b[1;31m# generate word cloud\u001b[0m\u001b[1;33m\u001b[0m\u001b[1;33m\u001b[0m\u001b[1;33m\u001b[0m\u001b[0m\n\u001b[1;32m----> 5\u001b[1;33m \u001b[0mwc\u001b[0m\u001b[1;33m.\u001b[0m\u001b[0mgenerate\u001b[0m\u001b[1;33m(\u001b[0m\u001b[1;34m\"My name is haurya singh my name shaurya sahurya\"\u001b[0m\u001b[1;33m)\u001b[0m\u001b[1;33m\u001b[0m\u001b[1;33m\u001b[0m\u001b[0m\n\u001b[0m\u001b[0;32m      6\u001b[0m \u001b[0mprint\u001b[0m \u001b[1;33m(\u001b[0m\u001b[1;34m\"Word Cloud for non-Duplicate Question pairs:\"\u001b[0m\u001b[1;33m)\u001b[0m\u001b[1;33m\u001b[0m\u001b[1;33m\u001b[0m\u001b[0m\n\u001b[0;32m      7\u001b[0m \u001b[0mplt\u001b[0m\u001b[1;33m.\u001b[0m\u001b[0mimshow\u001b[0m\u001b[1;33m(\u001b[0m\u001b[0mwc\u001b[0m\u001b[1;33m,\u001b[0m \u001b[0minterpolation\u001b[0m\u001b[1;33m=\u001b[0m\u001b[1;34m'bilinear'\u001b[0m\u001b[1;33m)\u001b[0m\u001b[1;33m\u001b[0m\u001b[1;33m\u001b[0m\u001b[0m\n",
      "\u001b[1;32m~\\Anaconda3\\lib\\site-packages\\wordcloud\\wordcloud.py\u001b[0m in \u001b[0;36mgenerate\u001b[1;34m(self, text)\u001b[0m\n\u001b[0;32m    617\u001b[0m         \u001b[0mself\u001b[0m\u001b[1;33m\u001b[0m\u001b[1;33m\u001b[0m\u001b[0m\n\u001b[0;32m    618\u001b[0m         \"\"\"\n\u001b[1;32m--> 619\u001b[1;33m         \u001b[1;32mreturn\u001b[0m \u001b[0mself\u001b[0m\u001b[1;33m.\u001b[0m\u001b[0mgenerate_from_text\u001b[0m\u001b[1;33m(\u001b[0m\u001b[0mtext\u001b[0m\u001b[1;33m)\u001b[0m\u001b[1;33m\u001b[0m\u001b[1;33m\u001b[0m\u001b[0m\n\u001b[0m\u001b[0;32m    620\u001b[0m \u001b[1;33m\u001b[0m\u001b[0m\n\u001b[0;32m    621\u001b[0m     \u001b[1;32mdef\u001b[0m \u001b[0m_check_generated\u001b[0m\u001b[1;33m(\u001b[0m\u001b[0mself\u001b[0m\u001b[1;33m)\u001b[0m\u001b[1;33m:\u001b[0m\u001b[1;33m\u001b[0m\u001b[1;33m\u001b[0m\u001b[0m\n",
      "\u001b[1;32m~\\Anaconda3\\lib\\site-packages\\wordcloud\\wordcloud.py\u001b[0m in \u001b[0;36mgenerate_from_text\u001b[1;34m(self, text)\u001b[0m\n\u001b[0;32m    598\u001b[0m         \u001b[0mself\u001b[0m\u001b[1;33m\u001b[0m\u001b[1;33m\u001b[0m\u001b[0m\n\u001b[0;32m    599\u001b[0m         \"\"\"\n\u001b[1;32m--> 600\u001b[1;33m         \u001b[0mwords\u001b[0m \u001b[1;33m=\u001b[0m \u001b[0mself\u001b[0m\u001b[1;33m.\u001b[0m\u001b[0mprocess_text\u001b[0m\u001b[1;33m(\u001b[0m\u001b[0mtext\u001b[0m\u001b[1;33m)\u001b[0m\u001b[1;33m\u001b[0m\u001b[1;33m\u001b[0m\u001b[0m\n\u001b[0m\u001b[0;32m    601\u001b[0m         \u001b[0mself\u001b[0m\u001b[1;33m.\u001b[0m\u001b[0mgenerate_from_frequencies\u001b[0m\u001b[1;33m(\u001b[0m\u001b[0mwords\u001b[0m\u001b[1;33m)\u001b[0m\u001b[1;33m\u001b[0m\u001b[1;33m\u001b[0m\u001b[0m\n\u001b[0;32m    602\u001b[0m         \u001b[1;32mreturn\u001b[0m \u001b[0mself\u001b[0m\u001b[1;33m\u001b[0m\u001b[1;33m\u001b[0m\u001b[0m\n",
      "\u001b[1;32m~\\Anaconda3\\lib\\site-packages\\wordcloud\\wordcloud.py\u001b[0m in \u001b[0;36mprocess_text\u001b[1;34m(self, text)\u001b[0m\n\u001b[0;32m    555\u001b[0m         \"\"\"\n\u001b[0;32m    556\u001b[0m \u001b[1;33m\u001b[0m\u001b[0m\n\u001b[1;32m--> 557\u001b[1;33m         \u001b[0mstopwords\u001b[0m \u001b[1;33m=\u001b[0m \u001b[0mset\u001b[0m\u001b[1;33m(\u001b[0m\u001b[1;33m[\u001b[0m\u001b[0mi\u001b[0m\u001b[1;33m.\u001b[0m\u001b[0mlower\u001b[0m\u001b[1;33m(\u001b[0m\u001b[1;33m)\u001b[0m \u001b[1;32mfor\u001b[0m \u001b[0mi\u001b[0m \u001b[1;32min\u001b[0m \u001b[0mself\u001b[0m\u001b[1;33m.\u001b[0m\u001b[0mstopwords\u001b[0m\u001b[1;33m]\u001b[0m\u001b[1;33m)\u001b[0m\u001b[1;33m\u001b[0m\u001b[1;33m\u001b[0m\u001b[0m\n\u001b[0m\u001b[0;32m    558\u001b[0m \u001b[1;33m\u001b[0m\u001b[0m\n\u001b[0;32m    559\u001b[0m         flags = (re.UNICODE if sys.version < '3' and type(text) is unicode  # noqa: F821\n",
      "\u001b[1;31mTypeError\u001b[0m: 'WordListCorpusReader' object is not iterable"
     ]
    }
   ],
   "source": [
    "\n",
    "\n",
    "wc = WordCloud(background_color=\"white\",stopwords=stopwords)\n",
    "# generate word cloud\n",
    "wc.generate(\"My name is haurya singh my name shaurya sahurya\")\n",
    "print (\"Word Cloud for non-Duplicate Question pairs:\")\n",
    "plt.imshow(wc, interpolation='bilinear')\n",
    "plt.axis(\"off\")\n",
    "plt.show()"
   ]
  },
  {
   "cell_type": "markdown",
   "metadata": {},
   "source": [
    "## Text Featurization\n",
    "\n",
    "1. BOW\n",
    "2. Bi gram, N gram\n",
    "3. TF-IDF\n",
    "4. Word 2 vec"
   ]
  },
  {
   "cell_type": "markdown",
   "metadata": {},
   "source": [
    "#### 1. BOW"
   ]
  },
  {
   "cell_type": "code",
   "execution_count": 31,
   "metadata": {},
   "outputs": [
    {
     "data": {
      "text/plain": [
       "(524585, 119006)"
      ]
     },
     "execution_count": 31,
     "metadata": {},
     "output_type": "execute_result"
    }
   ],
   "source": [
    "from sklearn.feature_extraction.text import CountVectorizer\n",
    "\n",
    "count_vector = CountVectorizer()\n",
    "processed_review_bowvector = count_vector.fit_transform(processed_review)\n",
    "processed_review_bowvector.shape"
   ]
  },
  {
   "cell_type": "code",
   "execution_count": 32,
   "metadata": {},
   "outputs": [
    {
     "name": "stdout",
     "output_type": "stream",
     "text": [
      "Number of unoque words in corpus :  119006\n"
     ]
    }
   ],
   "source": [
    "count_vector.get_feature_names() # get_feature_names() gives all the unique words\n",
    "print(\"Number of unoque words in corpus : \",len(count_vector.get_feature_names()))"
   ]
  },
  {
   "cell_type": "code",
   "execution_count": 45,
   "metadata": {},
   "outputs": [
    {
     "data": {
      "text/plain": [
       "[array([0, 0, 0, ..., 0, 0, 0], dtype=int64)]"
      ]
     },
     "execution_count": 45,
     "metadata": {},
     "output_type": "execute_result"
    }
   ],
   "source": [
    "(processed_review_bowvector[1].toarray() # vector corresponding the review 1"
   ]
  },
  {
   "cell_type": "code",
   "execution_count": 47,
   "metadata": {},
   "outputs": [
    {
     "data": {
      "text/plain": [
       "['aa',\n",
       " 'aaa',\n",
       " 'aaaa',\n",
       " 'aaaaa',\n",
       " 'aaaaaa',\n",
       " 'aaaaaaaaaaa',\n",
       " 'aaaaaaaaaaaa',\n",
       " 'aaaaaaaaaaaaa',\n",
       " 'aaaaaaaaaaaaaa',\n",
       " 'aaaaaaaaaaaaaaa',\n",
       " 'aaaaaaaaaaaaaaaaaaaaaaaaaaaaaaaaaaaaaaaaaaaa',\n",
       " 'aaaaaaaaaaaaaaaaaaaargh',\n",
       " 'aaaaaaaaaaaaaaaaacccccccckkkkkk',\n",
       " 'aaaaaaaaagghh',\n",
       " 'aaaaaaah',\n",
       " 'aaaaaaahhhhhh',\n",
       " 'aaaaaaarrrrrggghhh',\n",
       " 'aaaaaah',\n",
       " 'aaaaaahhh',\n",
       " 'aaaaaahhhh',\n",
       " 'aaaaaahhhhh',\n",
       " 'aaaaaahhhhhyaaaaaa',\n",
       " 'aaaaaand',\n",
       " 'aaaaaawwwwwwwwww',\n",
       " 'aaaaah',\n",
       " 'aaaaahhhhhhhhhhhhhhhh',\n",
       " 'aaaaallll',\n",
       " 'aaaaawsome',\n",
       " 'aaaah',\n",
       " 'aaaahhhhhh']"
      ]
     },
     "execution_count": 47,
     "metadata": {},
     "output_type": "execute_result"
    }
   ],
   "source": [
    "count_vector.get_feature_names()[0:30]  # here all features were taken "
   ]
  },
  {
   "cell_type": "markdown",
   "metadata": {},
   "source": [
    "#### 2. Bi-gram and N-grasm\n"
   ]
  },
  {
   "cell_type": "code",
   "execution_count": 33,
   "metadata": {},
   "outputs": [
    {
     "data": {
      "text/plain": [
       "(524585, 10000)"
      ]
     },
     "execution_count": 33,
     "metadata": {},
     "output_type": "execute_result"
    }
   ],
   "source": [
    "# ngram_range=(1,2) --> for the no of word in neighbour to take\n",
    "# min_df=10  ----> min number of occurence of word compu;sory to be get noticed\n",
    "# max_features =10000 ---> give top 10,000 fatures only out of all available\n",
    "\n",
    "\n",
    "count_vector_2 = CountVectorizer(ngram_range=(1,2), min_df=10, max_features=10000)\n",
    "processed_review_bigrams = count_vector_2.fit_transform(processed_review)\n",
    "processed_review_bigrams.shape"
   ]
  },
  {
   "cell_type": "code",
   "execution_count": 37,
   "metadata": {},
   "outputs": [
    {
     "data": {
      "text/plain": [
       "['ability',\n",
       " 'able',\n",
       " 'able buy',\n",
       " 'able eat',\n",
       " 'able find',\n",
       " 'able get',\n",
       " 'able make',\n",
       " 'able order',\n",
       " 'able purchase',\n",
       " 'able use',\n",
       " 'absolute',\n",
       " 'absolute best',\n",
       " 'absolute favorite',\n",
       " 'absolutely',\n",
       " 'absolutely best',\n",
       " 'absolutely delicious',\n",
       " 'absolutely love',\n",
       " 'absolutely loved',\n",
       " 'absolutely loves',\n",
       " 'absolutely no',\n",
       " 'absolutely wonderful',\n",
       " 'absorb',\n",
       " 'absorbed',\n",
       " 'acai',\n",
       " 'accept',\n",
       " 'acceptable',\n",
       " 'accepted',\n",
       " 'access',\n",
       " 'accident',\n",
       " 'accidentally']"
      ]
     },
     "execution_count": 37,
     "metadata": {},
     "output_type": "execute_result"
    }
   ],
   "source": [
    "count_vector_2.get_feature_names()[:30]    # only top 10,000  features were taekn"
   ]
  },
  {
   "cell_type": "code",
   "execution_count": 43,
   "metadata": {},
   "outputs": [
    {
     "data": {
      "text/plain": [
       "array([[0, 0, 0, ..., 0, 0, 0]], dtype=int64)"
      ]
     },
     "execution_count": 43,
     "metadata": {},
     "output_type": "execute_result"
    }
   ],
   "source": [
    "processed_review_bigrams[1].toarray() # vector corresponding the review 1"
   ]
  },
  {
   "cell_type": "markdown",
   "metadata": {},
   "source": [
    "#### 3. TF-IDF Vector"
   ]
  },
  {
   "cell_type": "code",
   "execution_count": 39,
   "metadata": {},
   "outputs": [
    {
     "data": {
      "text/plain": [
       "(524585, 10000)"
      ]
     },
     "execution_count": 39,
     "metadata": {},
     "output_type": "execute_result"
    }
   ],
   "source": [
    "from sklearn.feature_extraction.text import TfidfVectorizer\n",
    "\n",
    "tf_idf_vector = TfidfVectorizer(ngram_range=(1,2), min_df=10, max_features=10000)\n",
    "processed_review_tfidf = tf_idf_vector.fit_transform(processed_review)\n",
    "processed_review_tfidf.shape"
   ]
  },
  {
   "cell_type": "code",
   "execution_count": 40,
   "metadata": {},
   "outputs": [
    {
     "data": {
      "text/plain": [
       "['ability',\n",
       " 'able',\n",
       " 'able buy',\n",
       " 'able eat',\n",
       " 'able find',\n",
       " 'able get',\n",
       " 'able make',\n",
       " 'able order',\n",
       " 'able purchase',\n",
       " 'able use',\n",
       " 'absolute',\n",
       " 'absolute best',\n",
       " 'absolute favorite',\n",
       " 'absolutely',\n",
       " 'absolutely best',\n",
       " 'absolutely delicious',\n",
       " 'absolutely love',\n",
       " 'absolutely loved',\n",
       " 'absolutely loves',\n",
       " 'absolutely no',\n",
       " 'absolutely wonderful',\n",
       " 'absorb',\n",
       " 'absorbed',\n",
       " 'acai',\n",
       " 'accept',\n",
       " 'acceptable',\n",
       " 'accepted',\n",
       " 'access',\n",
       " 'accident',\n",
       " 'accidentally']"
      ]
     },
     "execution_count": 40,
     "metadata": {},
     "output_type": "execute_result"
    }
   ],
   "source": [
    "tf_idf_vector.get_feature_names()[:30]"
   ]
  },
  {
   "cell_type": "code",
   "execution_count": 42,
   "metadata": {},
   "outputs": [
    {
     "data": {
      "text/plain": [
       "array([[0., 0., 0., ..., 0., 0., 0.]])"
      ]
     },
     "execution_count": 42,
     "metadata": {},
     "output_type": "execute_result"
    }
   ],
   "source": [
    "processed_review_tfidf[1].toarray() # vector corresponding the review 1"
   ]
  },
  {
   "cell_type": "markdown",
   "metadata": {},
   "source": [
    "#### 4. Word 2 Vec\n",
    "\n",
    "It can be implemented by 2 ways\n",
    "* By using google trained google news corpus\n",
    "* By trainning own corpus"
   ]
  },
  {
   "cell_type": "code",
   "execution_count": 58,
   "metadata": {},
   "outputs": [],
   "source": [
    "from gensim.models import word2vec"
   ]
  },
  {
   "cell_type": "code",
   "execution_count": 50,
   "metadata": {},
   "outputs": [
    {
     "ename": "NameError",
     "evalue": "name 'Word2Vec' is not defined",
     "output_type": "error",
     "traceback": [
      "\u001b[1;31m---------------------------------------------------------------------------\u001b[0m",
      "\u001b[1;31mNameError\u001b[0m                                 Traceback (most recent call last)",
      "\u001b[1;32m<ipython-input-50-2c6f5acac943>\u001b[0m in \u001b[0;36m<module>\u001b[1;34m\u001b[0m\n\u001b[0;32m      1\u001b[0m \u001b[1;31m# min_count = 5 considers only words that occured atleast 5 times\u001b[0m\u001b[1;33m\u001b[0m\u001b[1;33m\u001b[0m\u001b[1;33m\u001b[0m\u001b[0m\n\u001b[0;32m      2\u001b[0m \u001b[1;33m\u001b[0m\u001b[0m\n\u001b[1;32m----> 3\u001b[1;33m \u001b[0mw2v_model\u001b[0m \u001b[1;33m=\u001b[0m \u001b[0mWord2Vec\u001b[0m\u001b[1;33m(\u001b[0m\u001b[0mprocessed_review\u001b[0m\u001b[1;33m,\u001b[0m \u001b[0mmin_count\u001b[0m\u001b[1;33m=\u001b[0m\u001b[1;36m5\u001b[0m\u001b[1;33m,\u001b[0m \u001b[0msize\u001b[0m\u001b[1;33m=\u001b[0m\u001b[1;36m50\u001b[0m\u001b[1;33m,\u001b[0m \u001b[0mworkers\u001b[0m\u001b[1;33m=\u001b[0m\u001b[1;36m4\u001b[0m\u001b[1;33m)\u001b[0m\u001b[1;33m\u001b[0m\u001b[1;33m\u001b[0m\u001b[0m\n\u001b[0m",
      "\u001b[1;31mNameError\u001b[0m: name 'Word2Vec' is not defined"
     ]
    }
   ],
   "source": [
    "# min_count = 5 considers only words that occured atleast 5 times\n",
    "\n",
    "# w2v_model = Word2Vec(processed_review, min_count=5, size=50, workers=4)"
   ]
  },
  {
   "cell_type": "code",
   "execution_count": null,
   "metadata": {},
   "outputs": [],
   "source": [
    "# unable to install it on windows 10"
   ]
  },
  {
   "cell_type": "markdown",
   "metadata": {},
   "source": [
    "## Logistic Regression (Bi-Ngram)"
   ]
  },
  {
   "cell_type": "code",
   "execution_count": 77,
   "metadata": {},
   "outputs": [],
   "source": [
    "from sklearn.model_selection import train_test_split\n",
    "from sklearn.linear_model import SGDClassifier\n",
    "from sklearn.calibration import CalibratedClassifierCV\n",
    "from sklearn.metrics import auc, confusion_matrix,log_loss, roc_auc_score"
   ]
  },
  {
   "cell_type": "code",
   "execution_count": 60,
   "metadata": {},
   "outputs": [
    {
     "data": {
      "text/plain": [
       "Index(['Id', 'ProductId', 'UserId', 'ProfileName', 'HelpfulnessNumerator',\n",
       "       'HelpfulnessDenominator', 'Score', 'Time', 'Summary', 'Text'],\n",
       "      dtype='object')"
      ]
     },
     "execution_count": 60,
     "metadata": {},
     "output_type": "execute_result"
    }
   ],
   "source": [
    "df.columns"
   ]
  },
  {
   "cell_type": "code",
   "execution_count": 75,
   "metadata": {},
   "outputs": [],
   "source": [
    "x ,x_bigram_test , y , y_bigram_test = train_test_split(processed_review_bigrams , df.Score, stratify =df.Score, random_state=0, test_size=0.20 )\n",
    "x_bigram_train, x_bigram_cv, y_train, y_cv = train_test_split(x,y,stratify=y,random_state=0,test_size=0.20) "
   ]
  },
  {
   "cell_type": "code",
   "execution_count": 85,
   "metadata": {},
   "outputs": [
    {
     "name": "stdout",
     "output_type": "stream",
     "text": [
      "For alpha :  1e-05  Log loss =  0.1713843204634063\n",
      "For alpha :  0.0001  Log loss =  0.15803087518531844\n",
      "For alpha :  0.001  Log loss =  0.1874473702293829\n",
      "For alpha :  0.01  Log loss =  0.2559888701195097\n",
      "For alpha :  0.1  Log loss =  0.389877011007419\n",
      "For alpha :  1  Log loss =  0.4325988679687597\n",
      "For alpha :  10  Log loss =  0.43116893069107465\n"
     ]
    }
   ],
   "source": [
    "alpha = [10**x for x in range(-5,2)]\n",
    "auc_cv = []\n",
    "log_loss_array = []\n",
    "\n",
    "for i in alpha:\n",
    "    clf = SGDClassifier(loss='log', penalty='l2',alpha=i,random_state=0)\n",
    "    clf.fit(x_bigram_train, y_train)\n",
    "    sigmoid_clf = CalibratedClassifierCV(clf, method='sigmoid')\n",
    "    sigmoid_clf.fit(x_bigram_train, y_train)\n",
    "    predicted_y = sigmoid_clf.predict_proba(x_bigram_cv)\n",
    "    loss = log_loss(y_cv, predicted_y,labels=clf.classes_)\n",
    "    log_loss_array.append(loss)\n",
    "    print(\"For alpha : \",i,\" Log loss = \",loss)\n",
    "#     auc_cv.append(roc_auc_score(y_cv,predicted_y))"
   ]
  },
  {
   "cell_type": "code",
   "execution_count": 86,
   "metadata": {},
   "outputs": [
    {
     "name": "stdout",
     "output_type": "stream",
     "text": [
      " At alpha = 0.0001, For Test Data Log loss is :  0.156188911103147\n"
     ]
    }
   ],
   "source": [
    "# log loss is min At alpha = 0.0001\n",
    "# trainng model at best alpha\n",
    "\n",
    "clf = SGDClassifier(loss='log', penalty='l2',alpha=0.0001,random_state=0)\n",
    "clf.fit(x_bigram_train, y_train)\n",
    "sigmoid_clf = CalibratedClassifierCV(clf, method='sigmoid')\n",
    "sigmoid_clf.fit(x_bigram_train, y_train)\n",
    "predicted_y = sigmoid_clf.predict_proba(x_bigram_test)\n",
    "loss = log_loss(y_bigram_test, predicted_y,labels=clf.classes_)\n",
    "print(\" At alpha = 0.0001, For Test Data Log loss is : \",loss)"
   ]
  },
  {
   "cell_type": "code",
   "execution_count": 88,
   "metadata": {},
   "outputs": [],
   "source": [
    "from prettytable import PrettyTable    \n",
    "tbl = PrettyTable()\n",
    "tbl.field_names = [\"ML Model\",\"Vectorizer\",\"Regularization\", \"Hyperameter(alpha)\", \"Cv Log Loss\",'Test log loss']\n",
    "tbl.add_row(['Logistic Class.','Bi Gram','l2','0.0001','1.158','0.156'])"
   ]
  },
  {
   "cell_type": "code",
   "execution_count": 90,
   "metadata": {},
   "outputs": [
    {
     "name": "stdout",
     "output_type": "stream",
     "text": [
      "+-----------------+------------+----------------+--------------------+-------------+---------------+\n",
      "|     ML Model    | Vectorizer | Regularization | Hyperameter(alpha) | Cv Log Loss | Test log loss |\n",
      "+-----------------+------------+----------------+--------------------+-------------+---------------+\n",
      "| Logistic Class. |  Bi Gram   |       l2       |       0.0001       |    1.158    |     0.156     |\n",
      "+-----------------+------------+----------------+--------------------+-------------+---------------+\n"
     ]
    }
   ],
   "source": [
    "print(tbl)"
   ]
  },
  {
   "cell_type": "markdown",
   "metadata": {},
   "source": [
    "## Logistic Regression (TF-IDF, with L2)"
   ]
  },
  {
   "cell_type": "code",
   "execution_count": 188,
   "metadata": {},
   "outputs": [],
   "source": [
    "x ,x_tfidf_test , y , y_tfidf_test = train_test_split(processed_review_tfidf , df.Score, stratify =df.Score, random_state=0, test_size=0.20 )\n",
    "x_tfidf_train, x_tfidf_cv, y_train, y_cv = train_test_split(x,y,stratify=y,random_state=0,test_size=0.20) "
   ]
  },
  {
   "cell_type": "code",
   "execution_count": 93,
   "metadata": {},
   "outputs": [
    {
     "name": "stdout",
     "output_type": "stream",
     "text": [
      "For alpha :  1e-05  Log loss =  0.15062224672769398\n",
      "For alpha :  0.0001  Log loss =  0.18834416566953543\n",
      "For alpha :  0.001  Log loss =  0.23546356816048053\n",
      "For alpha :  0.01  Log loss =  0.27559481342936687\n",
      "For alpha :  0.1  Log loss =  0.4160471346161671\n",
      "For alpha :  1  Log loss =  0.4238655594400876\n",
      "For alpha :  10  Log loss =  0.42454152072136825\n"
     ]
    }
   ],
   "source": [
    "alpha = [10**x for x in range(-5,2)]\n",
    "log_loss_array = []\n",
    "\n",
    "for i in alpha:\n",
    "    clf = SGDClassifier(loss='log', penalty='l2',alpha=i,random_state=0)\n",
    "    clf.fit(x_tfidf_train, y_train)\n",
    "    sigmoid_clf = CalibratedClassifierCV(clf, method='sigmoid')\n",
    "    sigmoid_clf.fit(x_tfidf_train, y_train)\n",
    "    predicted_y = sigmoid_clf.predict_proba(x_tfidf_cv)\n",
    "    loss = log_loss(y_cv, predicted_y,labels=clf.classes_)\n",
    "    log_loss_array.append(loss)\n",
    "    print(\"For alpha : \",i,\" Log loss = \",loss)"
   ]
  },
  {
   "cell_type": "code",
   "execution_count": 94,
   "metadata": {},
   "outputs": [
    {
     "name": "stdout",
     "output_type": "stream",
     "text": [
      " At alpha = 0.00001, For Test Data Log loss is :  0.14865336110185484\n"
     ]
    }
   ],
   "source": [
    "# log loss is min At alpha = 0.00001\n",
    "# trainng model at best alpha\n",
    "\n",
    "clf = SGDClassifier(loss='log', penalty='l2',alpha=0.00001,random_state=0)\n",
    "clf.fit(x_tfidf_train, y_train)\n",
    "sigmoid_clf = CalibratedClassifierCV(clf, method='sigmoid')\n",
    "sigmoid_clf.fit(x_tfidf_train, y_train)\n",
    "predicted_y = sigmoid_clf.predict_proba(x_tfidf_test)\n",
    "loss = log_loss(y_tfidf_test, predicted_y,labels=clf.classes_)\n",
    "print(\" At alpha = 0.00001, For Test Data Log loss is : \",loss)"
   ]
  },
  {
   "cell_type": "code",
   "execution_count": 105,
   "metadata": {},
   "outputs": [
    {
     "name": "stdout",
     "output_type": "stream",
     "text": [
      "+-----------------+------------+----------------+--------------------+-------------+---------------+\n",
      "|     ML Model    | Vectorizer | Regularization | Hyperameter(alpha) | Cv Log Loss | Test log loss |\n",
      "+-----------------+------------+----------------+--------------------+-------------+---------------+\n",
      "| Logistic Class. |   TF-IDF   |       l2       |       0.0001       |    0.150    |     0.148     |\n",
      "| Logistic Class. |  Bi Gram   |       l2       |       0.0001       |    0.158    |     0.156     |\n",
      "+-----------------+------------+----------------+--------------------+-------------+---------------+\n"
     ]
    }
   ],
   "source": [
    "print(tbl)"
   ]
  },
  {
   "cell_type": "markdown",
   "metadata": {},
   "source": [
    "## Logistic Regression (BOW)"
   ]
  },
  {
   "cell_type": "code",
   "execution_count": 106,
   "metadata": {},
   "outputs": [],
   "source": [
    "x ,x_bow_test , y , y_bow_test = train_test_split(processed_review_bowvector , df.Score, stratify =df.Score, random_state=0, test_size=0.20 )\n",
    "x_bow_train, x_bow_cv, y_train, y_cv = train_test_split(x,y,stratify=y,random_state=0,test_size=0.20) "
   ]
  },
  {
   "cell_type": "code",
   "execution_count": 107,
   "metadata": {},
   "outputs": [
    {
     "name": "stdout",
     "output_type": "stream",
     "text": [
      "For alpha :  1e-05  Log loss =  0.18976661954055318\n",
      "For alpha :  0.0001  Log loss =  0.18036185983962616\n",
      "For alpha :  0.001  Log loss =  0.2056061930639523\n",
      "For alpha :  0.01  Log loss =  0.2665360184991525\n",
      "For alpha :  0.1  Log loss =  0.39383617053238773\n",
      "For alpha :  1  Log loss =  0.4325819688580151\n",
      "For alpha :  10  Log loss =  0.43109077725845746\n"
     ]
    }
   ],
   "source": [
    "alpha = [10**x for x in range(-5,2)]\n",
    "log_loss_array = []\n",
    "\n",
    "for i in alpha:\n",
    "    clf = SGDClassifier(loss='log', penalty='l2',alpha=i,random_state=0)\n",
    "    clf.fit(x_bow_train, y_train)\n",
    "    sigmoid_clf = CalibratedClassifierCV(clf, method='sigmoid')\n",
    "    sigmoid_clf.fit(x_bow_train, y_train)\n",
    "    predicted_y = sigmoid_clf.predict_proba(x_bow_cv)\n",
    "    loss = log_loss(y_cv, predicted_y,labels=clf.classes_)\n",
    "    log_loss_array.append(loss)\n",
    "    print(\"For alpha : \",i,\" Log loss = \",loss)"
   ]
  },
  {
   "cell_type": "code",
   "execution_count": 123,
   "metadata": {},
   "outputs": [
    {
     "name": "stdout",
     "output_type": "stream",
     "text": [
      " At alpha = 0.00001, For Test Data Log loss is :  0.17968136206410937\n"
     ]
    }
   ],
   "source": [
    "# log loss is min At alpha = 0.0001\n",
    "# trainng model at best alpha\n",
    "\n",
    "clf = SGDClassifier(loss='log', penalty='l2',alpha=0.0001,random_state=0)\n",
    "clf.fit(x_bow_train, y_train)\n",
    "sigmoid_clf = CalibratedClassifierCV(clf, method='sigmoid')\n",
    "sigmoid_clf.fit(x_bow_train, y_train)\n",
    "predicted_y = sigmoid_clf.predict_proba(x_bow_test)\n",
    "loss = log_loss(y_bow_test, predicted_y,labels=clf.classes_)\n",
    "print(\" At alpha = 0.00001, For Test Data Log loss is : \",loss)"
   ]
  },
  {
   "cell_type": "code",
   "execution_count": 136,
   "metadata": {},
   "outputs": [
    {
     "data": {
      "text/plain": [
       "97104"
      ]
     },
     "execution_count": 136,
     "metadata": {},
     "output_type": "execute_result"
    }
   ],
   "source": [
    "weight = clf.coef_\n",
    "np.count_nonzero(weight)  # 'L1' regularizatio produces saprse matrix"
   ]
  },
  {
   "cell_type": "code",
   "execution_count": 111,
   "metadata": {},
   "outputs": [],
   "source": [
    "tbl.add_row(['Logistic Class.','BOW','l2','0.0001','0.180','0.179'])"
   ]
  },
  {
   "cell_type": "code",
   "execution_count": 112,
   "metadata": {},
   "outputs": [
    {
     "name": "stdout",
     "output_type": "stream",
     "text": [
      "+-----------------+------------+----------------+--------------------+-------------+---------------+\n",
      "|     ML Model    | Vectorizer | Regularization | Hyperameter(alpha) | Cv Log Loss | Test log loss |\n",
      "+-----------------+------------+----------------+--------------------+-------------+---------------+\n",
      "| Logistic Class. |   TF-IDF   |       l2       |       0.0001       |    0.150    |     0.148     |\n",
      "| Logistic Class. |  Bi Gram   |       l2       |       0.0001       |    0.158    |     0.156     |\n",
      "| Logistic Class. |    BOW     |       l2       |       0.0001       |    0.180    |     0.179     |\n",
      "+-----------------+------------+----------------+--------------------+-------------+---------------+\n"
     ]
    }
   ],
   "source": [
    "print(tbl)"
   ]
  },
  {
   "cell_type": "markdown",
   "metadata": {},
   "source": [
    "## Logistic Regression (TF-IDF, with L1)"
   ]
  },
  {
   "cell_type": "code",
   "execution_count": 113,
   "metadata": {},
   "outputs": [
    {
     "name": "stdout",
     "output_type": "stream",
     "text": [
      "For alpha :  1e-05  Log loss =  0.15568907055150208\n",
      "For alpha :  0.0001  Log loss =  0.22288634676872407\n",
      "For alpha :  0.001  Log loss =  0.3784774308292144\n",
      "For alpha :  0.01  Log loss =  0.432600624819805\n",
      "For alpha :  0.1  Log loss =  0.4326006248198049\n",
      "For alpha :  1  Log loss =  0.43260062481980505\n",
      "For alpha :  10  Log loss =  0.4326006248198049\n"
     ]
    }
   ],
   "source": [
    "alpha = [10**x for x in range(-5,2)]\n",
    "log_loss_array = []\n",
    "\n",
    "for i in alpha:\n",
    "    clf = SGDClassifier(loss='log', penalty='l1',alpha=i,random_state=0)\n",
    "    clf.fit(x_tfidf_train, y_train)\n",
    "    sigmoid_clf = CalibratedClassifierCV(clf, method='sigmoid')\n",
    "    sigmoid_clf.fit(x_tfidf_train, y_train)\n",
    "    predicted_y = sigmoid_clf.predict_proba(x_tfidf_cv)\n",
    "    loss = log_loss(y_cv, predicted_y,labels=clf.classes_)\n",
    "    log_loss_array.append(loss)\n",
    "    print(\"For alpha : \",i,\" Log loss = \",loss)"
   ]
  },
  {
   "cell_type": "code",
   "execution_count": 114,
   "metadata": {},
   "outputs": [
    {
     "name": "stdout",
     "output_type": "stream",
     "text": [
      " At alpha = 0.00001, For Test Data Log loss is :  0.14865336110185484\n"
     ]
    }
   ],
   "source": [
    "# log loss is min At alpha = 0.00001\n",
    "# trainng model at best alpha\n",
    "\n",
    "clf = SGDClassifier(loss='log', penalty='l2',alpha=0.00001,random_state=0)\n",
    "clf.fit(x_tfidf_train, y_train)\n",
    "sigmoid_clf = CalibratedClassifierCV(clf, method='sigmoid')\n",
    "sigmoid_clf.fit(x_tfidf_train, y_train)\n",
    "predicted_y = sigmoid_clf.predict_proba(x_tfidf_test)\n",
    "loss = log_loss(y_tfidf_test, predicted_y,labels=clf.classes_)\n",
    "print(\" At alpha = 0.00001, For Test Data Log loss is : \",loss)"
   ]
  },
  {
   "cell_type": "code",
   "execution_count": 115,
   "metadata": {},
   "outputs": [
    {
     "name": "stdout",
     "output_type": "stream",
     "text": [
      "+-----------------+------------+----------------+--------------------+-------------+---------------+\n",
      "|     ML Model    | Vectorizer | Regularization | Hyperameter(alpha) | Cv Log Loss | Test log loss |\n",
      "+-----------------+------------+----------------+--------------------+-------------+---------------+\n",
      "| Logistic Class. |   TF-IDF   |       l2       |       0.0001       |    0.150    |     0.148     |\n",
      "| Logistic Class. |  Bi Gram   |       l2       |       0.0001       |    0.158    |     0.156     |\n",
      "| Logistic Class. |    BOW     |       l2       |       0.0001       |    0.180    |     0.179     |\n",
      "| Logistic Class. |   TF-IDF   |       l1       |      0.00001       |    0.156    |     0.148     |\n",
      "+-----------------+------------+----------------+--------------------+-------------+---------------+\n"
     ]
    }
   ],
   "source": [
    "tbl.add_row(['Logistic Class.','TF-IDF','l1','0.00001','0.156','0.148'])\n",
    "print(tbl)"
   ]
  },
  {
   "cell_type": "markdown",
   "metadata": {},
   "source": [
    "## Logistic Regression (Bi-Ngram, L1)"
   ]
  },
  {
   "cell_type": "code",
   "execution_count": 116,
   "metadata": {},
   "outputs": [
    {
     "name": "stdout",
     "output_type": "stream",
     "text": [
      "For alpha :  1e-05  Log loss =  0.16958512944837217\n",
      "For alpha :  0.0001  Log loss =  0.19452603275162178\n",
      "For alpha :  0.001  Log loss =  0.25556242818702735\n",
      "For alpha :  0.01  Log loss =  0.3884248816500186\n",
      "For alpha :  0.1  Log loss =  0.4212649871906855\n",
      "For alpha :  1  Log loss =  0.43260062481980505\n",
      "For alpha :  10  Log loss =  0.4326006248198049\n"
     ]
    }
   ],
   "source": [
    "alpha = [10**x for x in range(-5,2)]\n",
    "auc_cv = []\n",
    "log_loss_array = []\n",
    "\n",
    "for i in alpha:\n",
    "    clf = SGDClassifier(loss='log', penalty='l1',alpha=i,random_state=0)\n",
    "    clf.fit(x_bigram_train, y_train)\n",
    "    sigmoid_clf = CalibratedClassifierCV(clf, method='sigmoid')\n",
    "    sigmoid_clf.fit(x_bigram_train, y_train)\n",
    "    predicted_y = sigmoid_clf.predict_proba(x_bigram_cv)\n",
    "    loss = log_loss(y_cv, predicted_y,labels=clf.classes_)\n",
    "    log_loss_array.append(loss)\n",
    "    print(\"For alpha : \",i,\" Log loss = \",loss)\n",
    "#     auc_cv.append(roc_auc_score(y_cv,predicted_y))"
   ]
  },
  {
   "cell_type": "code",
   "execution_count": 154,
   "metadata": {},
   "outputs": [
    {
     "name": "stdout",
     "output_type": "stream",
     "text": [
      " At alpha = 0.0001, For Test Data Log loss is :  2.2231345583115054\n"
     ]
    }
   ],
   "source": [
    "# log loss is min At alpha = 0.00001\n",
    "# trainng model at best alpha\n",
    "\n",
    "clf = SGDClassifier(loss='log', penalty='l1',alpha=0.00001,random_state=0)\n",
    "clf.fit(x_bigram_train, y_train)\n",
    "sigmoid_clf = CalibratedClassifierCV(clf, method='sigmoid')\n",
    "sigmoid_clf.fit(x_bigram_train, y_train)\n",
    "predicted_y = sigmoid_clf.predict(x_bigram_test)\n",
    "loss = log_loss(y_bigram_test, predicted_y,labels=clf.classes_)\n",
    "print(\" At alpha = 0.0001, For Test Data Log loss is : \",loss)"
   ]
  },
  {
   "cell_type": "code",
   "execution_count": 122,
   "metadata": {},
   "outputs": [
    {
     "data": {
      "text/plain": [
       "7461"
      ]
     },
     "execution_count": 122,
     "metadata": {},
     "output_type": "execute_result"
    }
   ],
   "source": [
    "weight = clf.coef_\n",
    "np.count_nonzero(weight) # 'L1' regularizatio produces dense matrix"
   ]
  },
  {
   "cell_type": "code",
   "execution_count": 118,
   "metadata": {},
   "outputs": [
    {
     "name": "stdout",
     "output_type": "stream",
     "text": [
      "+-----------------+------------+----------------+--------------------+-------------+---------------+\n",
      "|     ML Model    | Vectorizer | Regularization | Hyperameter(alpha) | Cv Log Loss | Test log loss |\n",
      "+-----------------+------------+----------------+--------------------+-------------+---------------+\n",
      "| Logistic Class. |   TF-IDF   |       l2       |       0.0001       |    0.150    |     0.148     |\n",
      "| Logistic Class. |  Bi Gram   |       l2       |       0.0001       |    0.158    |     0.156     |\n",
      "| Logistic Class. |    BOW     |       l2       |       0.0001       |    0.180    |     0.179     |\n",
      "| Logistic Class. |   TF-IDF   |       l1       |      0.00001       |    0.156    |     0.148     |\n",
      "| Logistic Class. |  Bi-Gram   |       l1       |      0.00001       |    0.170    |     0.169     |\n",
      "+-----------------+------------+----------------+--------------------+-------------+---------------+\n"
     ]
    }
   ],
   "source": [
    "tbl.add_row(['Logistic Class.','Bi-Gram','l1','0.00001','0.170','0.169'])\n",
    "print(tbl)"
   ]
  },
  {
   "cell_type": "code",
   "execution_count": 167,
   "metadata": {},
   "outputs": [
    {
     "data": {
      "image/png": "[encoded data removed]",
      "text/plain": [
       "<Figure size 432x288 with 2 Axes>"
      ]
     },
     "metadata": {
      "needs_background": "light"
     },
     "output_type": "display_data"
    }
   ],
   "source": [
    "from sklearn.metrics import confusion_matrix\n",
    "\n",
    "con = confusion_matrix(y_bigram_test, predicted_y)\n",
    "\n",
    "class_label = [\"negative\", \"positive\"]\n",
    "df_plot = pd.DataFrame(con, index = class_label, columns = class_label)\n",
    "sns.heatmap(df_plot, annot = True,fmt=\"d\")\n",
    "plt.title(\"Confusion Matrix\")\n",
    "plt.xlabel(\"Predicted Label\")\n",
    "plt.ylabel(\"True Label\")\n",
    "plt.show()"
   ]
  },
  {
   "cell_type": "code",
   "execution_count": 168,
   "metadata": {},
   "outputs": [
    {
     "data": {
      "text/html": [
       "<div>\n",
       "<style scoped>\n",
       "    .dataframe tbody tr th:only-of-type {\n",
       "        vertical-align: middle;\n",
       "    }\n",
       "\n",
       "    .dataframe tbody tr th {\n",
       "        vertical-align: top;\n",
       "    }\n",
       "\n",
       "    .dataframe thead th {\n",
       "        text-align: right;\n",
       "    }\n",
       "</style>\n",
       "<table border=\"1\" class=\"dataframe\">\n",
       "  <thead>\n",
       "    <tr style=\"text-align: right;\">\n",
       "      <th></th>\n",
       "      <th>negative</th>\n",
       "      <th>positive</th>\n",
       "    </tr>\n",
       "  </thead>\n",
       "  <tbody>\n",
       "    <tr>\n",
       "      <th>negative</th>\n",
       "      <td>11027</td>\n",
       "      <td>5317</td>\n",
       "    </tr>\n",
       "    <tr>\n",
       "      <th>positive</th>\n",
       "      <td>1436</td>\n",
       "      <td>87137</td>\n",
       "    </tr>\n",
       "  </tbody>\n",
       "</table>\n",
       "</div>"
      ],
      "text/plain": [
       "          negative  positive\n",
       "negative     11027      5317\n",
       "positive      1436     87137"
      ]
     },
     "execution_count": 168,
     "metadata": {},
     "output_type": "execute_result"
    }
   ],
   "source": [
    "df_plot"
   ]
  },
  {
   "cell_type": "code",
   "execution_count": 169,
   "metadata": {},
   "outputs": [
    {
     "data": {
      "text/plain": [
       "array([[11027,  5317],\n",
       "       [ 1436, 87137]], dtype=int64)"
      ]
     },
     "execution_count": 169,
     "metadata": {},
     "output_type": "execute_result"
    }
   ],
   "source": [
    "con"
   ]
  },
  {
   "cell_type": "markdown",
   "metadata": {},
   "source": [
    "## Feature Engineering"
   ]
  },
  {
   "cell_type": "code",
   "execution_count": 175,
   "metadata": {},
   "outputs": [],
   "source": [
    "# Adding the lenth of string at the end of each review"
   ]
  },
  {
   "cell_type": "code",
   "execution_count": 185,
   "metadata": {},
   "outputs": [],
   "source": [
    "processed_review = processed_review.map(lambda x: x + \" \"+str(len(x)))"
   ]
  },
  {
   "cell_type": "code",
   "execution_count": 186,
   "metadata": {},
   "outputs": [
    {
     "name": "stdout",
     "output_type": "stream",
     "text": [
      "+-----------------+------------+----------------+--------------------+-------------+---------------+\n",
      "|     ML Model    | Vectorizer | Regularization | Hyperameter(alpha) | Cv Log Loss | Test log loss |\n",
      "+-----------------+------------+----------------+--------------------+-------------+---------------+\n",
      "| Logistic Class. |   TF-IDF   |       l2       |       0.0001       |    0.150    |     0.148     |\n",
      "| Logistic Class. |  Bi Gram   |       l2       |       0.0001       |    0.158    |     0.156     |\n",
      "| Logistic Class. |    BOW     |       l2       |       0.0001       |    0.180    |     0.179     |\n",
      "| Logistic Class. |   TF-IDF   |       l1       |      0.00001       |    0.156    |     0.148     |\n",
      "| Logistic Class. |  Bi-Gram   |       l1       |      0.00001       |    0.170    |     0.169     |\n",
      "+-----------------+------------+----------------+--------------------+-------------+---------------+\n"
     ]
    }
   ],
   "source": [
    "print(tbl)"
   ]
  },
  {
   "cell_type": "code",
   "execution_count": 187,
   "metadata": {},
   "outputs": [],
   "source": [
    "# Trainng model with feature engg on Top model"
   ]
  },
  {
   "cell_type": "code",
   "execution_count": 189,
   "metadata": {},
   "outputs": [
    {
     "name": "stdout",
     "output_type": "stream",
     "text": [
      "For alpha :  1e-05  Log loss =  0.15062224672769398\n",
      "For alpha :  0.0001  Log loss =  0.18834416566953543\n",
      "For alpha :  0.001  Log loss =  0.23546356816048053\n",
      "For alpha :  0.01  Log loss =  0.27559481342936687\n",
      "For alpha :  0.1  Log loss =  0.4160471346161671\n",
      "For alpha :  1  Log loss =  0.4238655594400876\n",
      "For alpha :  10  Log loss =  0.42454152072136825\n"
     ]
    }
   ],
   "source": [
    "alpha = [10**x for x in range(-5,2)]\n",
    "log_loss_array = []\n",
    "\n",
    "for i in alpha:\n",
    "    clf = SGDClassifier(loss='log', penalty='l2',alpha=i,random_state=0)\n",
    "    clf.fit(x_tfidf_train, y_train)\n",
    "    sigmoid_clf = CalibratedClassifierCV(clf, method='sigmoid')\n",
    "    sigmoid_clf.fit(x_tfidf_train, y_train)\n",
    "    predicted_y = sigmoid_clf.predict_proba(x_tfidf_cv)\n",
    "    loss = log_loss(y_cv, predicted_y,labels=clf.classes_)\n",
    "    log_loss_array.append(loss)\n",
    "    print(\"For alpha : \",i,\" Log loss = \",loss)"
   ]
  },
  {
   "cell_type": "code",
   "execution_count": 190,
   "metadata": {},
   "outputs": [
    {
     "name": "stdout",
     "output_type": "stream",
     "text": [
      " At alpha = 0.00001, For Test Data Log loss is :  0.14865336110185484\n"
     ]
    }
   ],
   "source": [
    "# log loss is min At alpha = 0.00001\n",
    "# trainng model at best alpha\n",
    "\n",
    "clf = SGDClassifier(loss='log', penalty='l2',alpha=0.00001,random_state=0)\n",
    "clf.fit(x_tfidf_train, y_train)\n",
    "sigmoid_clf = CalibratedClassifierCV(clf, method='sigmoid')\n",
    "sigmoid_clf.fit(x_tfidf_train, y_train)\n",
    "predicted_y = sigmoid_clf.predict_proba(x_tfidf_test)\n",
    "loss = log_loss(y_tfidf_test, predicted_y,labels=clf.classes_)\n",
    "print(\" At alpha = 0.00001, For Test Data Log loss is : \",loss)"
   ]
  },
  {
   "cell_type": "code",
   "execution_count": 192,
   "metadata": {},
   "outputs": [],
   "source": [
    "clf = SGDClassifier(loss='log', penalty='l2',alpha=0.00001,random_state=0)\n",
    "clf.fit(x_tfidf_train, y_train)\n",
    "predicted_y = clf.predict(x_tfidf_test)"
   ]
  },
  {
   "cell_type": "code",
   "execution_count": 194,
   "metadata": {},
   "outputs": [
    {
     "data": {
      "text/plain": [
       "array([[11207,  5137],\n",
       "       [ 1399, 87174]], dtype=int64)"
      ]
     },
     "execution_count": 194,
     "metadata": {},
     "output_type": "execute_result"
    }
   ],
   "source": [
    "con = confusion_matrix(y_tfidf_test, predicted_y)\n",
    "con"
   ]
  },
  {
   "cell_type": "code",
   "execution_count": 199,
   "metadata": {},
   "outputs": [
    {
     "data": {
      "image/png": "[encoded data removed]",
      "text/plain": [
       "<Figure size 432x288 with 2 Axes>"
      ]
     },
     "metadata": {
      "needs_background": "light"
     },
     "output_type": "display_data"
    }
   ],
   "source": [
    "df_plot = pd.DataFrame(data =con ,index = class_label ,columns = class_label)\n",
    "class_label = [\"Negative\",\"Positive\"]\n",
    "sns.heatmap(df_plot,annot = True,fmt=\"d\")\n",
    "plt.xlabel(\"Predicted Label\")\n",
    "plt.ylabel(\"True Label\")\n",
    "plt.title(\"Confusion matrix\")\n",
    "plt.show()"
   ]
  },
  {
   "cell_type": "markdown",
   "metadata": {},
   "source": [
    "### Getting top 10 features from Model trained"
   ]
  },
  {
   "cell_type": "code",
   "execution_count": 207,
   "metadata": {},
   "outputs": [
    {
     "data": {
      "text/plain": [
       "10000"
      ]
     },
     "execution_count": 207,
     "metadata": {},
     "output_type": "execute_result"
    }
   ],
   "source": [
    "#  tf_idf_vector --- this contains all the features\n",
    "tf_all_features = tf_idf_vector.get_feature_names()\n",
    "len(tf_all_features)"
   ]
  },
  {
   "cell_type": "code",
   "execution_count": 209,
   "metadata": {},
   "outputs": [
    {
     "data": {
      "text/plain": [
       "(1, 10000)"
      ]
     },
     "execution_count": 209,
     "metadata": {},
     "output_type": "execute_result"
    }
   ],
   "source": [
    "# Weighted hy[erplane vector 'weight vector'\n",
    "weight_vector = clf.coef_\n",
    "weight_vector.shape"
   ]
  },
  {
   "cell_type": "code",
   "execution_count": 225,
   "metadata": {},
   "outputs": [
    {
     "data": {
      "text/plain": [
       "(1, 10000)"
      ]
     },
     "execution_count": 225,
     "metadata": {},
     "output_type": "execute_result"
    }
   ],
   "source": [
    "pos_a = np.argsort(weight_vector)[:,::-1]\n",
    "pos_a.shape"
   ]
  },
  {
   "cell_type": "code",
   "execution_count": 223,
   "metadata": {},
   "outputs": [
    {
     "data": {
      "text/plain": [
       "(1, 10000)"
      ]
     },
     "execution_count": 223,
     "metadata": {},
     "output_type": "execute_result"
    }
   ],
   "source": [
    "neg_a = np.argsort(weight_vector)\n",
    "neg_a.shape"
   ]
  },
  {
   "cell_type": "code",
   "execution_count": 227,
   "metadata": {},
   "outputs": [
    {
     "name": "stdout",
     "output_type": "stream",
     "text": [
      "great\n",
      "delicious\n",
      "best\n",
      "perfect\n",
      "good\n",
      "loves\n",
      "not disappointed\n",
      "love\n",
      "excellent\n",
      "wonderful\n"
     ]
    }
   ],
   "source": [
    "# top +ive words --\n",
    "for i in range(0,10):\n",
    "    print(tf_all_features[pos_a[0][i]])"
   ]
  },
  {
   "cell_type": "code",
   "execution_count": 228,
   "metadata": {},
   "outputs": [
    {
     "name": "stdout",
     "output_type": "stream",
     "text": [
      "disappointed\n",
      "worst\n",
      "disappointing\n",
      "not worth\n",
      "not good\n",
      "not recommend\n",
      "terrible\n",
      "awful\n",
      "not\n",
      "not buy\n"
     ]
    }
   ],
   "source": [
    "# top negative words ---\n",
    "for i in range(0,10):\n",
    "    print(tf_all_features[neg_a[0][i]])"
   ]
  },
  {
   "cell_type": "code",
   "execution_count": 229,
   "metadata": {},
   "outputs": [
    {
     "name": "stdout",
     "output_type": "stream",
     "text": [
      "+-----------------+------------+----------------+--------------------+-------------+---------------+\n",
      "|     ML Model    | Vectorizer | Regularization | Hyperameter(alpha) | Cv Log Loss | Test log loss |\n",
      "+-----------------+------------+----------------+--------------------+-------------+---------------+\n",
      "| Logistic Class. |   TF-IDF   |       l2       |       0.0001       |    0.150    |     0.148     |\n",
      "| Logistic Class. |  Bi Gram   |       l2       |       0.0001       |    0.158    |     0.156     |\n",
      "| Logistic Class. |    BOW     |       l2       |       0.0001       |    0.180    |     0.179     |\n",
      "| Logistic Class. |   TF-IDF   |       l1       |      0.00001       |    0.156    |     0.148     |\n",
      "| Logistic Class. |  Bi-Gram   |       l1       |      0.00001       |    0.170    |     0.169     |\n",
      "+-----------------+------------+----------------+--------------------+-------------+---------------+\n"
     ]
    }
   ],
   "source": [
    "print(tbl)"
   ]
  },
  {
   "cell_type": "markdown",
   "metadata": {},
   "source": [
    "## Linear SVM (Bi-gram)"
   ]
  },
  {
   "cell_type": "code",
   "execution_count": 230,
   "metadata": {},
   "outputs": [
    {
     "name": "stdout",
     "output_type": "stream",
     "text": [
      "For alpha :  1e-05  Log loss =  0.17147212128724118\n",
      "For alpha :  0.0001  Log loss =  0.1572332708355313\n",
      "For alpha :  0.001  Log loss =  0.16991852334223542\n",
      "For alpha :  0.01  Log loss =  0.20454672270750435\n",
      "For alpha :  0.1  Log loss =  0.36261523663011647\n",
      "For alpha :  1  Log loss =  0.43247861984180797\n",
      "For alpha :  10  Log loss =  0.43094396826788645\n"
     ]
    }
   ],
   "source": [
    "alpha = [10**x for x in range(-5,2)]\n",
    "log_loss_array = []\n",
    "\n",
    "for i in alpha:\n",
    "    clf = SGDClassifier(loss='hinge', penalty='l2',alpha=i,random_state=0)\n",
    "    clf.fit(x_bigram_train, y_train)\n",
    "    sigmoid_clf = CalibratedClassifierCV(clf, method='sigmoid')\n",
    "    sigmoid_clf.fit(x_bigram_train, y_train)\n",
    "    predicted_y = sigmoid_clf.predict_proba(x_bigram_cv)\n",
    "    loss = log_loss(y_cv, predicted_y,labels=clf.classes_)\n",
    "    log_loss_array.append(loss)\n",
    "    print(\"For alpha : \",i,\" Log loss = \",loss)"
   ]
  },
  {
   "cell_type": "code",
   "execution_count": 231,
   "metadata": {},
   "outputs": [
    {
     "name": "stdout",
     "output_type": "stream",
     "text": [
      " At alpha = 0.0001, For Test Data Log loss is :  1.9765559262138674\n"
     ]
    }
   ],
   "source": [
    "# log loss is min At alpha = 0.0001\n",
    "# trainng model at best alpha\n",
    "\n",
    "clf = SGDClassifier(loss='hinge', penalty='l2',alpha=0.0001,random_state=0)\n",
    "clf.fit(x_bigram_train, y_train)\n",
    "sigmoid_clf = CalibratedClassifierCV(clf, method='sigmoid')\n",
    "sigmoid_clf.fit(x_bigram_train, y_train)\n",
    "predicted_y = sigmoid_clf.predict(x_bigram_test)\n",
    "loss = log_loss(y_bigram_test, predicted_y,labels=clf.classes_)\n",
    "print(\" At alpha = 0.0001, For Test Data Log loss is : \",loss)"
   ]
  },
  {
   "cell_type": "code",
   "execution_count": 232,
   "metadata": {},
   "outputs": [
    {
     "name": "stdout",
     "output_type": "stream",
     "text": [
      "+-----------------+------------+----------------+--------------------+-------------+---------------+\n",
      "|     ML Model    | Vectorizer | Regularization | Hyperameter(alpha) | Cv Log Loss | Test log loss |\n",
      "+-----------------+------------+----------------+--------------------+-------------+---------------+\n",
      "| Logistic Class. |   TF-IDF   |       l2       |       0.0001       |    0.150    |     0.148     |\n",
      "| Logistic Class. |  Bi Gram   |       l2       |       0.0001       |    0.158    |     0.156     |\n",
      "| Logistic Class. |    BOW     |       l2       |       0.0001       |    0.180    |     0.179     |\n",
      "| Logistic Class. |   TF-IDF   |       l1       |      0.00001       |    0.156    |     0.148     |\n",
      "| Logistic Class. |  Bi-Gram   |       l1       |      0.00001       |    0.170    |     0.169     |\n",
      "|   Linear SVM.   |  Bi-Gram   |       l2       |       0.0001       |    0.157    |      1.97     |\n",
      "+-----------------+------------+----------------+--------------------+-------------+---------------+\n"
     ]
    }
   ],
   "source": [
    "tbl.add_row(['Linear SVM.','Bi-Gram','l2','0.0001','0.157','1.97'])\n",
    "print(tbl)"
   ]
  },
  {
   "cell_type": "markdown",
   "metadata": {},
   "source": [
    "* For linear SVM despite of Hyperparameter trainning We see marginal difference with the cv_log loss and Test log loss\n",
    "* Thus model has High Variance\n",
    "* Model is useless as hypertunning is done"
   ]
  },
  {
   "cell_type": "markdown",
   "metadata": {},
   "source": [
    "## Conclusion"
   ]
  },
  {
   "cell_type": "code",
   "execution_count": 235,
   "metadata": {},
   "outputs": [
    {
     "name": "stdout",
     "output_type": "stream",
     "text": [
      "+-----------------+------------+----------------+--------------------+-------------+---------------+\n",
      "|     ML Model    | Vectorizer | Regularization | Hyperameter(alpha) | Cv Log Loss | Test log loss |\n",
      "+-----------------+------------+----------------+--------------------+-------------+---------------+\n",
      "| Logistic Class. |   TF-IDF   |       l2       |       0.0001       |    0.150    |     0.148     |\n",
      "+-----------------+------------+----------------+--------------------+-------------+---------------+\n"
     ]
    }
   ],
   "source": [
    "print(tbl[0])"
   ]
  },
  {
   "cell_type": "markdown",
   "metadata": {},
   "source": [
    "Logistic Regression best with the above Hyperparameters"
   ]
  },
  {
   "cell_type": "code",
   "execution_count": null,
   "metadata": {
    "collapsed": true
   },
   "outputs": [],
   "source": []
  },
  {
   "cell_type": "code",
   "execution_count": null,
   "metadata": {},
   "outputs": [],
   "source": []
  }
 ],
 "metadata": {
  "kernelspec": {
   "display_name": "Python 3",
   "language": "python",
   "name": "python3"
  },
  "language_info": {
   "codemirror_mode": {
    "name": "ipython",
    "version": 3
   },
   "file_extension": ".py",
   "mimetype": "text/x-python",
   "name": "python",
   "nbconvert_exporter": "python",
   "pygments_lexer": "ipython3",
   "version": "3.7.3"
  }
 },
 "nbformat": 4,
 "nbformat_minor": 2
}
